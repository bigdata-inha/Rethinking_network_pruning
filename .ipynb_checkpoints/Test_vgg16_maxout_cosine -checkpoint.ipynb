{
 "cells": [
  {
   "cell_type": "code",
   "execution_count": 1,
   "metadata": {},
   "outputs": [],
   "source": [
    "import argparse\n",
    "import easydict\n",
    "\n",
    "from utils.config import *\n",
    "from utils.count_model import *\n",
    "from agents import *\n",
    "from torchsummaryX import summary\n"
   ]
  },
  {
   "cell_type": "code",
   "execution_count": 2,
   "metadata": {},
   "outputs": [
    {
     "name": "stdout",
     "output_type": "stream",
     "text": [
      "[3572, 83436, 66637, 13063, 34960]\n"
     ]
    }
   ],
   "source": [
    "import random\n",
    "\n",
    "RandomListOfIntegers = [random.randint(0, 99999) for iter in range(5)]\n",
    "print(RandomListOfIntegers)"
   ]
  },
  {
   "cell_type": "markdown",
   "metadata": {},
   "source": [
    "# 40 % drop"
   ]
  },
  {
   "cell_type": "code",
   "execution_count": null,
   "metadata": {
    "scrolled": true
   },
   "outputs": [
    {
     "name": "stdout",
     "output_type": "stream",
     "text": [
      "Files already downloaded and verified\n"
     ]
    },
    {
     "name": "stderr",
     "output_type": "stream",
     "text": [
      "Epoch-0-:   1%|          | 4/391 [00:00<01:04,  5.99it/s]"
     ]
    },
    {
     "name": "stdout",
     "output_type": "stream",
     "text": [
      "current learning rate:0.0\n"
     ]
    },
    {
     "name": "stderr",
     "output_type": "stream",
     "text": [
      "Epoch-0-: 100%|██████████| 391/391 [00:10<00:00, 36.56it/s]\n",
      "Valiation at -0-:   0%|          | 0/79 [00:00<?, ?it/s]"
     ]
    },
    {
     "name": "stdout",
     "output_type": "stream",
     "text": [
      "Training at epoch-0 | loss: 2.225970468557704\tTop1 Acc: 0.5769599999809265\n"
     ]
    },
    {
     "name": "stderr",
     "output_type": "stream",
     "text": [
      "Valiation at -0-: 100%|██████████| 79/79 [00:00<00:00, 81.23it/s]\n",
      "/home/bigdatainha/miniconda3/envs/pytorch16/lib/python3.8/site-packages/torch/optim/lr_scheduler.py:143: UserWarning: The epoch parameter in `scheduler.step()` was not necessary and is being deprecated where possible. Please use `scheduler.step()` to step the scheduler. During the deprecation, if epoch is different from None, the closed form is used instead of the new chainable form, where available. Please open an issue if you are unable to replicate your use case: https://github.com/pytorch/pytorch/issues/new/choose.\n",
      "  warnings.warn(EPOCH_DEPRECATION_WARNING, UserWarning)\n",
      "Epoch-1-:   0%|          | 0/391 [00:00<?, ?it/s]"
     ]
    },
    {
     "name": "stdout",
     "output_type": "stream",
     "text": [
      "Validation results at epoch-0 | loss: 1.9548961678637733\tTop1 Acc: 0.5208\n"
     ]
    },
    {
     "name": "stderr",
     "output_type": "stream",
     "text": [
      "\r",
      "Epoch-1-:   0%|          | 1/391 [00:00<01:12,  5.36it/s]"
     ]
    },
    {
     "name": "stdout",
     "output_type": "stream",
     "text": [
      "current learning rate:0.02\n"
     ]
    },
    {
     "name": "stderr",
     "output_type": "stream",
     "text": [
      "Epoch-1-: 100%|██████████| 391/391 [00:10<00:00, 36.50it/s]\n",
      "Valiation at -1-:   0%|          | 0/79 [00:00<?, ?it/s]"
     ]
    },
    {
     "name": "stdout",
     "output_type": "stream",
     "text": [
      "Training at epoch-1 | loss: 1.578702694314825\tTop1 Acc: 0.5778399999809265\n"
     ]
    },
    {
     "name": "stderr",
     "output_type": "stream",
     "text": [
      "Valiation at -1-: 100%|██████████| 79/79 [00:01<00:00, 78.85it/s]\n",
      "Epoch-2-:   0%|          | 0/391 [00:00<?, ?it/s]"
     ]
    },
    {
     "name": "stdout",
     "output_type": "stream",
     "text": [
      "Validation results at epoch-1 | loss: 2.055938639218294\tTop1 Acc: 0.4826\n",
      "current learning rate:0.04\n"
     ]
    },
    {
     "name": "stderr",
     "output_type": "stream",
     "text": [
      "Epoch-2-:  97%|█████████▋| 381/391 [00:10<00:00, 33.78it/s]"
     ]
    }
   ],
   "source": [
    "total_best = []\n",
    "total_history = []\n",
    "for i, seed in enumerate(RandomListOfIntegers):\n",
    "    config = easydict.EasyDict()\n",
    "    config.exp_name = \"vgg16_exp_cifar100_0\"\n",
    "    config.log_dir = os.path.join(\"experiments\", config.exp_name, \"logs/\")\n",
    "\n",
    "    config.load_file = os.path.join(\"experiments\", \"vgg16_exp_cifar100_0\",\"checkpoints\", \"checkpoint.pth\")\n",
    "    config.cuda = True\n",
    "    config.gpu_device = 1\n",
    "    config.seed = seed\n",
    "    config.milestones = [10, 20,30,40]\n",
    "    config.gamma = 0.9\n",
    "    config.img_size = 32\n",
    "    config.num_classes = 100\n",
    "    config.data_mode = \"download\"\n",
    "    config.data_loader_workers = 4\n",
    "    config.pin_memory = True\n",
    "    config.async_loading = True\n",
    "    config.batch_size = 128\n",
    "    config.async_loading = True\n",
    "    config.max_epoch = 100\n",
    "    torch.cuda.init()\n",
    "    \n",
    "    agent = globals()[\"VGG_BN_cifar\"](config)\n",
    "    agent.init_graph()\n",
    "    agent.load_checkpoint(config.load_file)\n",
    "    agent.compress(method = 'max_output',k=0.8)\n",
    "    best,history = agent.train(specializing=False, freeze_conv=False,cosine_decay = True)\n",
    "    summary(agent.model, torch.zeros((1, 3, 32, 32)).to(torch.device(\"cuda\")))\n",
    "\n",
    "    "
   ]
  },
  {
   "cell_type": "code",
   "execution_count": null,
   "metadata": {},
   "outputs": [],
   "source": [
    "summary(agent.model, torch.zeros((1, 3, 32, 32)).to(torch.device(\"cuda\")))"
   ]
  },
  {
   "cell_type": "code",
   "execution_count": null,
   "metadata": {},
   "outputs": [],
   "source": [
    "print(sum(total_best)/5)\n",
    "print()\n",
    "for i in np.array(total_history).sum(0)/5:\n",
    "    print(i)"
   ]
  },
  {
   "cell_type": "code",
   "execution_count": null,
   "metadata": {},
   "outputs": [],
   "source": [
    "import matplotlib.pyplot as plt\n",
    "plt.plot(agent.lr_list)"
   ]
  },
  {
   "cell_type": "markdown",
   "metadata": {},
   "source": [
    "# 60 % drop"
   ]
  },
  {
   "cell_type": "code",
   "execution_count": null,
   "metadata": {},
   "outputs": [],
   "source": [
    "total_best = []\n",
    "total_history = []\n",
    "for i, seed in enumerate(RandomListOfIntegers):\n",
    "    config = easydict.EasyDict()\n",
    "    config.exp_name = \"vgg16_exp_cifar100_0\"\n",
    "    config.log_dir = os.path.join(\"experiments\", config.exp_name, \"logs/\")\n",
    "\n",
    "    config.load_file = os.path.join(\"experiments\", \"vgg16_exp_cifar100_0\",\"checkpoints\", \"checkpoint.pth\")\n",
    "    config.cuda = True\n",
    "    config.gpu_device = 1\n",
    "    config.seed = seed\n",
    "    config.milestones = [10, 20,30,40]\n",
    "    config.gamma = 0.9\n",
    "    config.img_size = 32\n",
    "    config.num_classes = 100\n",
    "    config.data_mode = \"download\"\n",
    "    config.data_loader_workers = 4\n",
    "    config.pin_memory = True\n",
    "    config.async_loading = True\n",
    "    config.batch_size = 128\n",
    "    config.async_loading = True\n",
    "    config.max_epoch = 100\n",
    "    torch.cuda.init()\n",
    "    \n",
    "    agent = globals()[\"VGG_BN_cifar\"](config)\n",
    "    agent.init_graph()\n",
    "    agent.load_checkpoint(config.load_file)\n",
    "    agent.compress(method = 'max_output',k=0.65)\n",
    "    best,history = agent.train(specializing=False, freeze_conv=False,cosine_decay = True)\n",
    "    summary(agent.model, torch.zeros((1, 3, 32, 32)).to(torch.device(\"cuda\")))\n",
    "\n",
    "    "
   ]
  },
  {
   "cell_type": "code",
   "execution_count": null,
   "metadata": {},
   "outputs": [],
   "source": [
    "print(sum(total_best)/5)\n",
    "print()\n",
    "for i in np.array(total_history).sum(0)/5:\n",
    "    print(i)"
   ]
  },
  {
   "cell_type": "code",
   "execution_count": null,
   "metadata": {},
   "outputs": [],
   "source": [
    "import matplotlib.pyplot as plt\n",
    "plt.plot(agent.lr_list)"
   ]
  },
  {
   "cell_type": "markdown",
   "metadata": {},
   "source": [
    "# 80 % drop"
   ]
  },
  {
   "cell_type": "code",
   "execution_count": null,
   "metadata": {},
   "outputs": [],
   "source": [
    "total_best = []\n",
    "total_history = []\n",
    "for i, seed in enumerate(RandomListOfIntegers):\n",
    "    config = easydict.EasyDict()\n",
    "    config.exp_name = \"vgg16_exp_cifar100_0\"\n",
    "    config.log_dir = os.path.join(\"experiments\", config.exp_name, \"logs/\")\n",
    "\n",
    "    config.load_file = os.path.join(\"experiments\", \"vgg16_exp_cifar100_0\",\"checkpoints\", \"checkpoint.pth\")\n",
    "    config.cuda = True\n",
    "    config.gpu_device = 1\n",
    "    config.seed = seed\n",
    "    config.milestones = [10, 20,30,40]\n",
    "    config.gamma = 0.9\n",
    "    config.img_size = 32\n",
    "    config.num_classes = 100\n",
    "    config.data_mode = \"download\"\n",
    "    config.data_loader_workers = 4\n",
    "    config.pin_memory = True\n",
    "    config.async_loading = True\n",
    "    config.batch_size = 128\n",
    "    config.async_loading = True\n",
    "    config.max_epoch = 100\n",
    "    torch.cuda.init()\n",
    "    \n",
    "    agent = globals()[\"VGG_BN_cifar\"](config)\n",
    "    agent.init_graph()\n",
    "    agent.load_checkpoint(config.load_file)\n",
    "    agent.compress(method = 'max_output',k=0.48)\n",
    "    best,history = agent.train(specializing=False, freeze_conv=False,cosine_decay = True)\n",
    "    summary(agent.model, torch.zeros((1, 3, 32, 32)).to(torch.device(\"cuda\")))\n",
    "\n",
    "    "
   ]
  },
  {
   "cell_type": "code",
   "execution_count": null,
   "metadata": {},
   "outputs": [],
   "source": [
    "print(sum(total_best)/5)\n",
    "print()\n",
    "for i in np.array(total_history).sum(0)/5:\n",
    "    print(i)"
   ]
  },
  {
   "cell_type": "code",
   "execution_count": null,
   "metadata": {},
   "outputs": [],
   "source": [
    "import matplotlib.pyplot as plt\n",
    "plt.plot(agent.lr_list)"
   ]
  }
 ],
 "metadata": {
  "kernelspec": {
   "display_name": "pytorch16",
   "language": "python",
   "name": "pytorch16"
  },
  "language_info": {
   "codemirror_mode": {
    "name": "ipython",
    "version": 3
   },
   "file_extension": ".py",
   "mimetype": "text/x-python",
   "name": "python",
   "nbconvert_exporter": "python",
   "pygments_lexer": "ipython3",
   "version": "3.8.5"
  },
  "varInspector": {
   "cols": {
    "lenName": 16,
    "lenType": 16,
    "lenVar": 40
   },
   "kernels_config": {
    "python": {
     "delete_cmd_postfix": "",
     "delete_cmd_prefix": "del ",
     "library": "var_list.py",
     "varRefreshCmd": "print(var_dic_list())"
    },
    "r": {
     "delete_cmd_postfix": ") ",
     "delete_cmd_prefix": "rm(",
     "library": "var_list.r",
     "varRefreshCmd": "cat(var_dic_list()) "
    }
   },
   "types_to_exclude": [
    "module",
    "function",
    "builtin_function_or_method",
    "instance",
    "_Feature"
   ],
   "window_display": true
  }
 },
 "nbformat": 4,
 "nbformat_minor": 4
}
