{
 "cells": [
  {
   "cell_type": "code",
   "execution_count": 1,
   "metadata": {},
   "outputs": [],
   "source": [
    "import argparse\n",
    "import easydict\n",
    "import numpy as np\n",
    "import matplotlib.pyplot as plt\n",
    "\n",
    "from utils.config import *\n",
    "from utils.count_model import *\n",
    "from agents import *"
   ]
  },
  {
   "cell_type": "code",
   "execution_count": 2,
   "metadata": {},
   "outputs": [
    {
     "name": "stderr",
     "output_type": "stream",
     "text": [
      "[INFO]: Program will run on *****GPU-CUDA*****\n",
      "\n",
      "[INFO]: __Python VERSION:  3.7.5 (default, Oct 25 2019, 15:51:11) \n",
      "[GCC 7.3.0]\n",
      "[INFO]: __pyTorch VERSION:  1.3.1\n",
      "[INFO]: __CUDA VERSION\n",
      "[INFO]: Active CUDA Device: GPU 0\n",
      "[INFO]: Available devices  1\n",
      "[INFO]: Current cuda device  0\n",
      "[INFO]: Loading DATA.....\n"
     ]
    }
   ],
   "source": [
    "config = easydict.EasyDict()\n",
    "config.exp_name = \"assemblenet_imagenet\"\n",
    "config.log_dir = os.path.join(\"experiments\", config.exp_name, \"logs/\")\n",
    "create_dirs([config.log_dir])\n",
    "setup_logging(config.log_dir)\n",
    "\n",
    "config.load_file = os.path.join(\"experiments\", \"resnet18_exp_imagenet_0\", \"checkpoints/checkpoint.pth\")\n",
    "config.cuda = True\n",
    "config.gpu_device = 0\n",
    "config.seed = 1\n",
    "config.learning_rate = 0.001\n",
    "config.momentum = 0.9\n",
    "config.milestones = [5, 10, 15, 20, 25, 30, 35, 40, 45, 50, 55, 60, 65, 70]\n",
    "config.gamma = 0.9\n",
    "config.weight_decay = 0.0005\n",
    "config.img_size = 224\n",
    "config.num_classes = 1000\n",
    "# config.data_mode = \"download\"\n",
    "config.data_mode = \"image_folder\"\n",
    "config.data_dir = \"/mnt/disk1/workspace/Datasets/imagenet\"\n",
    "config.data_loader_workers = 8\n",
    "config.pin_memory = True\n",
    "config.async_loading = True\n",
    "config.batch_size = 16\n",
    "config.async_loading = True\n",
    "config.max_epoch = 3\n",
    "\n",
    "agent = globals()[\"AssembleNetResNet\"](config)\n",
    "agent.init_graph(pretrained=False)"
   ]
  },
  {
   "cell_type": "code",
   "execution_count": 3,
   "metadata": {
    "scrolled": true
   },
   "outputs": [
    {
     "name": "stderr",
     "output_type": "stream",
     "text": [
      "[INFO]: Loading DATA.....\n",
      "[INFO]:    [-] compress : 9.83880 sec, which is 0.16398 min, which is 0.00273 hour\n",
      "Epoch-0-:   0%|          | 0/144 [00:00<?, ?it/s]"
     ]
    },
    {
     "name": "stdout",
     "output_type": "stream",
     "text": [
      "[64, 32, 64, 29, 64, 61, 128, 128, 64, 128, 110, 256, 256, 116, 256, 215, 512, 512, 257, 512]\n"
     ]
    },
    {
     "name": "stderr",
     "output_type": "stream",
     "text": [
      "Epoch-0-: 100%|██████████| 144/144 [00:12<00:00, 11.57it/s]\n",
      "[INFO]: Training at epoch-0 | loss: 0.4189095951927205\tTop1 Acc: 0.83224543091315\n",
      "Epoch-1-: 100%|██████████| 144/144 [00:11<00:00, 12.33it/s]\n",
      "[INFO]: Training at epoch-1 | loss: 0.2236369398370799\tTop1 Acc: 0.9177545691906005\n",
      "Epoch-2-: 100%|██████████| 144/144 [00:11<00:00, 12.47it/s]\n",
      "[INFO]: Training at epoch-2 | loss: 0.17263091534065703\tTop1 Acc: 0.9375543952818224\n"
     ]
    },
    {
     "name": "stdout",
     "output_type": "stream",
     "text": [
      "35.685081243515015\n",
      "0\n",
      "  + Number of params: 5.2829M\n",
      "5.282923\n",
      "  + Number of FLOPs: 0.93G\n",
      "0.93194944\n"
     ]
    }
   ],
   "source": [
    "classes_list = [30, 105, 300, 340, 386, 526, 527, 673, 779, 985]\n",
    "merge_list1 = [30, 105]\n",
    "merge_list2 = [30, 105, 300, 340]\n",
    "merge_list3 = [30, 105, 300, 340, 386, 526]\n",
    "merge_list4 = [30, 105, 300, 340, 386, 526, 527, 673]\n",
    "merge_list5 = [30, 105, 300, 340, 386, 526, 527, 673, 779, 985]\n",
    "result, param, flop = [], [], []\n",
    "\n",
    "agent.init_graph(pretrained=True)\n",
    "agent.set_subtask(*merge_list1)\n",
    "    \n",
    "agent.compress(method = 'gradient', k=0.86)\n",
    "print([m.out_channels for n, m in agent.named_conv_list.items()])\n",
    "\n",
    "best, history = agent.train(specializing=True, freeze_conv=False)\n",
    "\n",
    "print(best)\n",
    "print(count_model_param_nums(agent.model) / 1e6)\n",
    "print(count_model_flops(agent.model, input_res=224).item() / 1e9)"
   ]
  },
  {
   "cell_type": "code",
   "execution_count": 4,
   "metadata": {
    "scrolled": true
   },
   "outputs": [
    {
     "name": "stderr",
     "output_type": "stream",
     "text": [
      "[INFO]: Loading DATA.....\n",
      "[INFO]:    [-] compress : 16.55667 sec, which is 0.27594 min, which is 0.00460 hour\n",
      "Epoch-0-:   0%|          | 0/287 [00:00<?, ?it/s]"
     ]
    },
    {
     "name": "stdout",
     "output_type": "stream",
     "text": [
      "[64, 33, 64, 32, 64, 61, 128, 128, 63, 128, 112, 256, 256, 112, 256, 218, 512, 512, 258, 512]\n"
     ]
    },
    {
     "name": "stderr",
     "output_type": "stream",
     "text": [
      "Epoch-0-: 100%|██████████| 287/287 [00:23<00:00, 12.10it/s]\n",
      "[INFO]: Training at epoch-0 | loss: 0.45049798166710325\tTop1 Acc: 0.8421167247386759\n",
      "Epoch-1-: 100%|██████████| 287/287 [00:23<00:00, 12.25it/s]\n",
      "[INFO]: Training at epoch-1 | loss: 0.2167913828966717\tTop1 Acc: 0.924324912891986\n",
      "Epoch-2-: 100%|██████████| 287/287 [00:23<00:00, 12.30it/s]\n",
      "[INFO]: Training at epoch-2 | loss: 0.177651816037993\tTop1 Acc: 0.9382621951219512\n"
     ]
    },
    {
     "name": "stdout",
     "output_type": "stream",
     "text": [
      "70.49060130119324\n",
      "0\n",
      "  + Number of params: 5.3047M\n",
      "5.304695\n",
      "  + Number of FLOPs: 0.94G\n",
      "0.943839168\n"
     ]
    }
   ],
   "source": [
    "classes_list = [30, 105, 300, 340, 386, 526, 527, 673, 779, 985]\n",
    "merge_list1 = [30, 105]\n",
    "merge_list2 = [30, 105, 300, 340]\n",
    "merge_list3 = [30, 105, 300, 340, 386, 526]\n",
    "merge_list4 = [30, 105, 300, 340, 386, 526, 527, 673]\n",
    "merge_list5 = [30, 105, 300, 340, 386, 526, 527, 673, 779, 985]\n",
    "result, param, flop = [], [], []\n",
    "\n",
    "agent.init_graph(pretrained=True)\n",
    "agent.set_subtask(*merge_list2)\n",
    "    \n",
    "agent.compress(method = 'gradient', k=0.86)\n",
    "print([m.out_channels for n, m in agent.named_conv_list.items()])\n",
    "\n",
    "best, history = agent.train(specializing=True, freeze_conv=False)\n",
    "\n",
    "print(best)\n",
    "print(count_model_param_nums(agent.model) / 1e6)\n",
    "print(count_model_flops(agent.model, input_res=224).item() / 1e9)"
   ]
  },
  {
   "cell_type": "code",
   "execution_count": 5,
   "metadata": {},
   "outputs": [
    {
     "name": "stderr",
     "output_type": "stream",
     "text": [
      "[INFO]: Loading DATA.....\n",
      "[INFO]:    [-] compress : 24.23354 sec, which is 0.40389 min, which is 0.00673 hour\n",
      "Epoch-0-:   0%|          | 0/431 [00:00<?, ?it/s]"
     ]
    },
    {
     "name": "stdout",
     "output_type": "stream",
     "text": [
      "[64, 33, 64, 31, 64, 61, 128, 128, 62, 128, 114, 256, 256, 115, 256, 222, 512, 512, 265, 512]\n"
     ]
    },
    {
     "name": "stderr",
     "output_type": "stream",
     "text": [
      "Epoch-0-: 100%|██████████| 431/431 [00:35<00:00, 12.22it/s]\n",
      "[INFO]: Training at epoch-0 | loss: 0.5611755199159935\tTop1 Acc: 0.8054344667247894\n",
      "Epoch-1-: 100%|██████████| 431/431 [00:35<00:00, 12.30it/s]\n",
      "[INFO]: Training at epoch-1 | loss: 0.29651146688068547\tTop1 Acc: 0.8942167974426039\n",
      "Epoch-2-: 100%|██████████| 431/431 [00:35<00:00, 12.31it/s]\n",
      "[INFO]: Training at epoch-2 | loss: 0.24102392880864043\tTop1 Acc: 0.9141964545190352\n"
     ]
    },
    {
     "name": "stdout",
     "output_type": "stream",
     "text": [
      "105.32603859901428\n",
      "0\n",
      "  + Number of params: 5.4152M\n",
      "5.415189\n",
      "  + Number of FLOPs: 0.95G\n",
      "0.946994112\n"
     ]
    }
   ],
   "source": [
    "classes_list = [30, 105, 300, 340, 386, 526, 527, 673, 779, 985]\n",
    "merge_list1 = [30, 105]\n",
    "merge_list2 = [30, 105, 300, 340]\n",
    "merge_list3 = [30, 105, 300, 340, 386, 526]\n",
    "merge_list4 = [30, 105, 300, 340, 386, 526, 527, 673]\n",
    "merge_list5 = [30, 105, 300, 340, 386, 526, 527, 673, 779, 985]\n",
    "result, param, flop = [], [], []\n",
    "\n",
    "agent.init_graph(pretrained=True)\n",
    "agent.set_subtask(*merge_list3)\n",
    "    \n",
    "agent.compress(method = 'gradient', k=0.86)\n",
    "print([m.out_channels for n, m in agent.named_conv_list.items()])\n",
    "\n",
    "best, history = agent.train(specializing=True, freeze_conv=False)\n",
    "\n",
    "print(best)\n",
    "print(count_model_param_nums(agent.model) / 1e6)\n",
    "print(count_model_flops(agent.model, input_res=224).item() / 1e9)"
   ]
  },
  {
   "cell_type": "code",
   "execution_count": 6,
   "metadata": {},
   "outputs": [
    {
     "name": "stderr",
     "output_type": "stream",
     "text": [
      "[INFO]: Loading DATA.....\n",
      "[INFO]:    [-] compress : 31.07480 sec, which is 0.51791 min, which is 0.00863 hour\n",
      "Epoch-0-:   0%|          | 0/573 [00:00<?, ?it/s]"
     ]
    },
    {
     "name": "stdout",
     "output_type": "stream",
     "text": [
      "[64, 33, 64, 30, 64, 62, 128, 128, 62, 128, 111, 256, 256, 115, 256, 220, 512, 512, 273, 512]\n"
     ]
    },
    {
     "name": "stderr",
     "output_type": "stream",
     "text": [
      "Epoch-0-: 100%|██████████| 573/573 [00:46<00:00, 12.38it/s]\n",
      "[INFO]: Training at epoch-0 | loss: 0.7094628292592616\tTop1 Acc: 0.7485274869109948\n",
      "Epoch-1-: 100%|██████████| 573/573 [00:46<00:00, 12.41it/s]\n",
      "[INFO]: Training at epoch-1 | loss: 0.4550573498946834\tTop1 Acc: 0.8340423211169284\n",
      "Epoch-2-: 100%|██████████| 573/573 [00:45<00:00, 12.48it/s]\n",
      "[INFO]: Training at epoch-2 | loss: 0.3838818422006687\tTop1 Acc: 0.8576025305410122\n"
     ]
    },
    {
     "name": "stdout",
     "output_type": "stream",
     "text": [
      "138.39402508735657\n",
      "0\n",
      "  + Number of params: 5.4663M\n",
      "5.466333\n",
      "  + Number of FLOPs: 0.95G\n",
      "0.945632448\n"
     ]
    }
   ],
   "source": [
    "classes_list = [30, 105, 300, 340, 386, 526, 527, 673, 779, 985]\n",
    "merge_list1 = [30, 105]\n",
    "merge_list2 = [30, 105, 300, 340]\n",
    "merge_list3 = [30, 105, 300, 340, 386, 526]\n",
    "merge_list4 = [30, 105, 300, 340, 386, 526, 527, 673]\n",
    "merge_list5 = [30, 105, 300, 340, 386, 526, 527, 673, 779, 985]\n",
    "result, param, flop = [], [], []\n",
    "\n",
    "agent.init_graph(pretrained=True)\n",
    "agent.set_subtask(*merge_list4)\n",
    "    \n",
    "agent.compress(method = 'gradient', k=0.86)\n",
    "print([m.out_channels for n, m in agent.named_conv_list.items()])\n",
    "\n",
    "best, history = agent.train(specializing=True, freeze_conv=False)\n",
    "\n",
    "print(best)\n",
    "print(count_model_param_nums(agent.model) / 1e6)\n",
    "print(count_model_flops(agent.model, input_res=224).item() / 1e9)"
   ]
  },
  {
   "cell_type": "code",
   "execution_count": 7,
   "metadata": {},
   "outputs": [
    {
     "name": "stderr",
     "output_type": "stream",
     "text": [
      "[INFO]: Loading DATA.....\n",
      "[INFO]:    [-] compress : 38.91485 sec, which is 0.64858 min, which is 0.01081 hour\n",
      "Epoch-0-:   0%|          | 0/716 [00:00<?, ?it/s]"
     ]
    },
    {
     "name": "stdout",
     "output_type": "stream",
     "text": [
      "[64, 34, 64, 30, 64, 62, 128, 128, 62, 128, 111, 256, 256, 113, 256, 224, 512, 512, 279, 512]\n"
     ]
    },
    {
     "name": "stderr",
     "output_type": "stream",
     "text": [
      "Epoch-0-: 100%|██████████| 716/716 [00:59<00:00, 12.11it/s]\n",
      "[INFO]: Training at epoch-0 | loss: 0.7066947689810612\tTop1 Acc: 0.7537117903826018\n",
      "Epoch-1-: 100%|██████████| 716/716 [00:58<00:00, 12.29it/s]\n",
      "[INFO]: Training at epoch-1 | loss: 0.43155813271273447\tTop1 Acc: 0.8483406113849457\n",
      "Epoch-2-: 100%|██████████| 716/716 [00:57<00:00, 12.53it/s]\n",
      "[INFO]: Training at epoch-2 | loss: 0.37132737239271235\tTop1 Acc: 0.8682096069764883\n"
     ]
    },
    {
     "name": "stdout",
     "output_type": "stream",
     "text": [
      "174.50576257705688\n",
      "0\n",
      "  + Number of params: 5.5423M\n",
      "5.542257\n",
      "  + Number of FLOPs: 0.95G\n",
      "0.951513728\n"
     ]
    }
   ],
   "source": [
    "classes_list = [30, 105, 300, 340, 386, 526, 527, 673, 779, 985]\n",
    "merge_list1 = [30, 105]\n",
    "merge_list2 = [30, 105, 300, 340]\n",
    "merge_list3 = [30, 105, 300, 340, 386, 526]\n",
    "merge_list4 = [30, 105, 300, 340, 386, 526, 527, 673]\n",
    "merge_list5 = [30, 105, 300, 340, 386, 526, 527, 673, 779, 985]\n",
    "result, param, flop = [], [], []\n",
    "\n",
    "agent.init_graph(pretrained=True)\n",
    "agent.set_subtask(*merge_list5)\n",
    "    \n",
    "agent.compress(method = 'gradient', k=0.86)\n",
    "print([m.out_channels for n, m in agent.named_conv_list.items()])\n",
    "\n",
    "best, history = agent.train(specializing=True, freeze_conv=False)\n",
    "\n",
    "print(best)\n",
    "print(count_model_param_nums(agent.model) / 1e6)\n",
    "print(count_model_flops(agent.model, input_res=224).item() / 1e9)"
   ]
  },
  {
   "cell_type": "code",
   "execution_count": null,
   "metadata": {},
   "outputs": [],
   "source": []
  }
 ],
 "metadata": {
  "kernelspec": {
   "display_name": "Pytorch",
   "language": "python",
   "name": "pytorch"
  },
  "language_info": {
   "codemirror_mode": {
    "name": "ipython",
    "version": 3
   },
   "file_extension": ".py",
   "mimetype": "text/x-python",
   "name": "python",
   "nbconvert_exporter": "python",
   "pygments_lexer": "ipython3",
   "version": "3.7.5"
  },
  "varInspector": {
   "cols": {
    "lenName": 16,
    "lenType": 16,
    "lenVar": 40
   },
   "kernels_config": {
    "python": {
     "delete_cmd_postfix": "",
     "delete_cmd_prefix": "del ",
     "library": "var_list.py",
     "varRefreshCmd": "print(var_dic_list())"
    },
    "r": {
     "delete_cmd_postfix": ") ",
     "delete_cmd_prefix": "rm(",
     "library": "var_list.r",
     "varRefreshCmd": "cat(var_dic_list()) "
    }
   },
   "types_to_exclude": [
    "module",
    "function",
    "builtin_function_or_method",
    "instance",
    "_Feature"
   ],
   "window_display": true
  }
 },
 "nbformat": 4,
 "nbformat_minor": 2
}
