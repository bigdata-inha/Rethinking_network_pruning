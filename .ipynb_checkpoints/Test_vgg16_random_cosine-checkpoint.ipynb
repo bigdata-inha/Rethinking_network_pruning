{
 "cells": [
  {
   "cell_type": "code",
   "execution_count": null,
   "metadata": {},
   "outputs": [],
   "source": [
    "import argparse\n",
    "import easydict\n",
    "\n",
    "from utils.config import *\n",
    "from utils.count_model import *\n",
    "from agents import *\n",
    "from torchsummaryX import summary\n"
   ]
  },
  {
   "cell_type": "code",
   "execution_count": null,
   "metadata": {},
   "outputs": [],
   "source": [
    "import random\n",
    "\n",
    "RandomListOfIntegers = [random.randint(0, 99999) for iter in range(5)]\n",
    "print(RandomListOfIntegers)"
   ]
  },
  {
   "cell_type": "code",
   "execution_count": null,
   "metadata": {},
   "outputs": [],
   "source": [
    "total_best = []\n",
    "total_history = []\n",
    "for i, seed in enumerate(RandomListOfIntegers):\n",
    "    config = easydict.EasyDict()\n",
    "    config.exp_name = \"vgg16_exp_cifar100_0\"\n",
    "    config.log_dir = os.path.join(\"experiments\", config.exp_name, \"logs/\")\n",
    "\n",
    "    config.load_file = os.path.join(\"experiments\", \"vgg16_exp_cifar100_0\",\"checkpoints\", \"checkpoint.pth\")\n",
    "    config.cuda = True\n",
    "    config.gpu_device = 0\n",
    "    config.seed = seed\n",
    "    config.milestones = [10, 20,30,40]\n",
    "    config.gamma = 0.9\n",
    "    config.img_size = 32\n",
    "    config.num_classes = 100\n",
    "    config.data_mode = \"download\"\n",
    "    config.data_loader_workers = 4\n",
    "    config.pin_memory = True\n",
    "    config.async_loading = True\n",
    "    config.batch_size = 256\n",
    "    config.async_loading = True\n",
    "    config.max_epoch = 100\n",
    "    torch.cuda.init()\n",
    "    \n",
    "    \n",
    "    agent = globals()[\"VGG_BN_cifar\"](config)\n",
    "    agent.init_graph()\n",
    "    agent.load_checkpoint(config.load_file)\n",
    "    agent.compress(method = 'random',k=0.5)\n",
    "    best,history = agent.train(specializing=False, freeze_conv=False)\n",
    "    summary(agent.model, torch.zeros((1, 3, 32, 32)).to(torch.device(\"cuda\")))\n",
    "\n",
    "    "
   ]
  },
  {
   "cell_type": "code",
   "execution_count": null,
   "metadata": {},
   "outputs": [],
   "source": []
  }
 ],
 "metadata": {
  "kernelspec": {
   "display_name": "pytorch16",
   "language": "python",
   "name": "pytorch16"
  },
  "language_info": {
   "codemirror_mode": {
    "name": "ipython",
    "version": 3
   },
   "file_extension": ".py",
   "mimetype": "text/x-python",
   "name": "python",
   "nbconvert_exporter": "python",
   "pygments_lexer": "ipython3",
   "version": "3.8.5"
  },
  "varInspector": {
   "cols": {
    "lenName": 16,
    "lenType": 16,
    "lenVar": 40
   },
   "kernels_config": {
    "python": {
     "delete_cmd_postfix": "",
     "delete_cmd_prefix": "del ",
     "library": "var_list.py",
     "varRefreshCmd": "print(var_dic_list())"
    },
    "r": {
     "delete_cmd_postfix": ") ",
     "delete_cmd_prefix": "rm(",
     "library": "var_list.r",
     "varRefreshCmd": "cat(var_dic_list()) "
    }
   },
   "types_to_exclude": [
    "module",
    "function",
    "builtin_function_or_method",
    "instance",
    "_Feature"
   ],
   "window_display": true
  }
 },
 "nbformat": 4,
 "nbformat_minor": 4
}
