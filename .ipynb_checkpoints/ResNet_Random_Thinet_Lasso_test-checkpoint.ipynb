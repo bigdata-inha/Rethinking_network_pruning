{
 "cells": [
  {
   "cell_type": "code",
   "execution_count": 1,
   "metadata": {},
   "outputs": [],
   "source": [
    "import argparse\n",
    "import easydict\n",
    "\n",
    "from graphs.models.resnet import *\n",
    "from utils.config import *\n",
    "from utils.count_model import *\n",
    "from agents import *\n",
    "from graphs import *"
   ]
  },
  {
   "cell_type": "code",
   "execution_count": 2,
   "metadata": {
    "scrolled": true
   },
   "outputs": [],
   "source": [
    "# config = easydict.EasyDict()\n",
    "# config.exp_name = \"assemblenet_imagenet\"\n",
    "# config.log_dir = os.path.join(\"experiments\", config.exp_name, \"logs/\")\n",
    "# create_dirs([config.log_dir])\n",
    "# setup_logging(config.log_dir)\n",
    "\n",
    "# config.load_file = 'C:\\\\Users\\\\USER001\\\\Desktop\\\\pytorch-cifar100-master\\\\checkpoint\\\\resnet18\\\\resnet18-187-best.pth'\n",
    "# config.cuda = True\n",
    "# config.gpu_device = 0\n",
    "# config.seed = 1\n",
    "# config.learning_rate = 0.001\n",
    "# config.momentum = 0.9\n",
    "# config.milestones = [5, 10,15]\n",
    "# config.gamma = 0.9\n",
    "# config.weight_decay = 0.0005\n",
    "# config.img_size = 32\n",
    "# config.num_classes = 100\n",
    "# config.data_mode = \"download\"\n",
    "# config.data_loader_workers = 4\n",
    "# config.pin_memory = True\n",
    "# config.async_loading = True\n",
    "# config.batch_size = 32\n",
    "# config.async_loading = True\n",
    "# config.max_epoch = 40\n",
    "# torch.cuda.init()\n",
    "\n",
    "\n",
    "\n",
    "# agent = globals()[\"AssembleNetResNet\"](config)\n",
    "# agent.init_graph(pretrained=False)\n",
    "# agent.load_checkpoint(file_path= config.load_file)\n",
    "# # agent.validate()\n",
    "# compress_ratio = 0.7\n",
    "# agent.random_selected_stayed_channels = dict()\n",
    "\n",
    "# for i, m in enumerate(agent.all_list):\n",
    "#     if isinstance(m, models.resnet.BasicBlock):\n",
    "#         conv1 = agent.named_modules_list[str(i) + '.conv1']\n",
    "\n",
    "#         random_selected_indices = np.random.choice(list(range(conv1.out_channels)), int(conv1.out_channels * compress_ratio), \n",
    "#                                                    replace=False)\n",
    "#         agent.random_selected_stayed_channels[str(i) + '.conv1'] = set(random_selected_indices)\n",
    "        \n",
    "# agent.compress(method = 'random',k=compress_ratio)\n",
    "# best,history1 = agent.train(specializing=False, freeze_conv=False)\n",
    "\n",
    "# print(count_model_param_nums(agent.model) / 1e6)\n",
    "# print(count_model_flops(agent.model, input_res=32)/ 1e9)\n"
   ]
  },
  {
   "cell_type": "code",
   "execution_count": 3,
   "metadata": {
    "scrolled": true
   },
   "outputs": [],
   "source": [
    "# import matplotlib.pyplot as plt\n",
    "# print(best)\n",
    "# plt.plot(history)"
   ]
  },
  {
   "cell_type": "code",
   "execution_count": null,
   "metadata": {
    "scrolled": true
   },
   "outputs": [
    {
     "name": "stderr",
     "output_type": "stream",
     "text": [
      "[INFO]: Program will run on *****GPU-CUDA*****\n",
      "\n",
      "[INFO]: __Python VERSION:  3.7.7 (default, May  6 2020, 11:45:54) [MSC v.1916 64 bit (AMD64)]\n",
      "[INFO]: __pyTorch VERSION:  1.6.0\n",
      "[INFO]: __CUDA VERSION\n",
      "[INFO]: Active CUDA Device: GPU 0\n",
      "[INFO]: Available devices  1\n",
      "[INFO]: Current cuda device  0\n",
      "[INFO]: Loading DATA.....\n"
     ]
    },
    {
     "name": "stdout",
     "output_type": "stream",
     "text": [
      "Files already downloaded and verified\n",
      "Loading checkpoint 'C:\\Users\\USER001\\Desktop\\pytorch-cifar100-master\\checkpoint\\resnet18\\resnet18-187-best.pth'\n",
      "Checkpoint loaded successfully\n",
      "\n",
      "num_pruned 20\n",
      "indices_pruned !!!  [7, 32, 46, 55, 54, 18, 16, 3, 27, 59, 49, 21, 38, 6, 62, 29, 8, 23, 19, 1]\n",
      "num_pruned 20\n",
      "indices_pruned !!!  [11, 15, 36, 40, 44, 49, 62, 24, 35, 46, 20, 22, 37, 27, 30, 59, 31, 53, 56, 26]\n",
      "num_pruned 39\n",
      "indices_pruned !!!  [102, 83, 97, 106, 68, 125, 55, 115, 109, 56, 40, 104, 92, 119, 41, 1, 70, 18, 34, 26, 44, 53, 103, 7, 105, 17, 113, 69, 5, 22, 36, 11, 42, 111, 94, 79, 61, 122, 126]\n",
      "num_pruned 39\n",
      "indices_pruned !!!  [14, 101, 102, 126, 65, 28, 99, 111, 29, 4, 92, 55, 85, 27, 71, 36, 104, 115, 122, 0, 60, 119, 23, 12, 39, 89, 56, 16, 76, 82, 74, 90, 54, 112, 47, 26, 7, 41, 33]\n",
      "num_pruned 77\n",
      "indices_pruned !!!  [11, 110, 242, 210, 172, 188, 62, 16, 252, 234, 127, 14, 109, 1, 129, 219, 202, 189, 171, 31, 45, 170, 152, 156, 113, 145, 240, 119, 124, 80, 22, 223, 5, 9, 33, 247, 36, 122, 158, 155, 112, 61, 50, 238, 150, 174, 233, 143, 58, 221, 40, 117, 203, 78, 60, 217, 177, 151, 77, 220, 118, 25, 207, 123, 57, 231, 115, 159, 211, 226, 229, 141, 48, 19, 39, 201, 66]\n",
      "num_pruned 77\n",
      "indices_pruned !!!  [14, 25, 30, 45, 180, 181, 189, 225, 228, 238, 239, 114, 213, 139, 49, 153, 203, 155, 61, 197, 103, 229, 67, 248, 227, 94, 66, 245, 137, 3, 154, 5, 171, 90, 231, 4, 216, 183, 17, 244, 146, 223, 250, 93, 132, 83, 52, 169, 252, 236, 39, 59, 255, 140, 37, 156, 177, 136, 145, 84, 158, 107, 170, 184, 89, 188, 119, 233, 254, 40, 241, 148, 104, 19, 126, 0, 133]\n",
      "num_pruned 154\n"
     ]
    }
   ],
   "source": [
    "config = easydict.EasyDict()\n",
    "config.exp_name = \"assemblenet_imagenet\"\n",
    "config.log_dir = os.path.join(\"experiments\", config.exp_name, \"logs/\")\n",
    "create_dirs([config.log_dir])\n",
    "setup_logging(config.log_dir)\n",
    "\n",
    "config.load_file = 'C:\\\\Users\\\\USER001\\\\Desktop\\\\pytorch-cifar100-master\\\\checkpoint\\\\resnet18\\\\resnet18-187-best.pth'\n",
    "config.cuda = True\n",
    "config.gpu_device = 0\n",
    "config.seed = 1\n",
    "config.learning_rate = 0.001\n",
    "config.momentum = 0.9\n",
    "config.milestones = [5, 10,15]\n",
    "config.gamma = 0.9\n",
    "config.weight_decay = 0.0005\n",
    "config.img_size = 32\n",
    "config.num_classes = 100\n",
    "config.data_mode = \"download\"\n",
    "config.data_loader_workers = 4\n",
    "config.pin_memory = True\n",
    "config.async_loading = True\n",
    "config.batch_size = 128\n",
    "config.async_loading = True\n",
    "config.max_epoch = 100\n",
    "torch.cuda.init()\n",
    "\n",
    "\n",
    "agent = globals()[\"AssembleNetResNet\"](config)\n",
    "agent.init_graph(pretrained=False)\n",
    "agent.load_checkpoint(file_path= config.load_file)\n",
    "# agent.validate()\n",
    "\n",
    "\n",
    "agent.compress(method = 'greedy',k=0.7)\n",
    "best,history2 = agent.train(specializing=False, freeze_conv=False)\n",
    "\n",
    "print(count_model_param_nums(agent.model) / 1e6)\n",
    "print(count_model_flops(agent.model, input_res=32)/ 1e9)"
   ]
  },
  {
   "cell_type": "code",
   "execution_count": null,
   "metadata": {},
   "outputs": [],
   "source": [
    "print(history)"
   ]
  },
  {
   "cell_type": "code",
   "execution_count": null,
   "metadata": {},
   "outputs": [],
   "source": [
    "import matplotlib.pyplot as plt\n",
    "print(best)\n",
    "plt.plot(history)"
   ]
  },
  {
   "cell_type": "code",
   "execution_count": null,
   "metadata": {
    "scrolled": true
   },
   "outputs": [],
   "source": [
    "agent.model"
   ]
  },
  {
   "cell_type": "code",
   "execution_count": null,
   "metadata": {},
   "outputs": [],
   "source": [
    "config = easydict.EasyDict()\n",
    "config.exp_name = \"assemblenet_imagenet\"\n",
    "config.log_dir = os.path.join(\"experiments\", config.exp_name, \"logs/\")\n",
    "create_dirs([config.log_dir])\n",
    "setup_logging(config.log_dir)\n",
    "\n",
    "config.load_file = 'C:\\\\Users\\\\USER001\\\\Desktop\\\\pytorch-cifar100-master\\\\checkpoint\\\\resnet18\\\\resnet18-187-best.pth'\n",
    "config.cuda = True\n",
    "config.gpu_device = 0\n",
    "config.seed = 1\n",
    "config.learning_rate = 0.001\n",
    "config.momentum = 0.9\n",
    "config.milestones = [5, 10,15]\n",
    "config.gamma = 0.9\n",
    "config.weight_decay = 0.0005\n",
    "config.img_size = 32\n",
    "config.num_classes = 100\n",
    "config.data_mode = \"download\"\n",
    "config.data_loader_workers = 4\n",
    "config.pin_memory = True\n",
    "config.async_loading = True\n",
    "config.batch_size = 32\n",
    "config.async_loading = True\n",
    "config.max_epoch = 40\n",
    "torch.cuda.init()\n",
    "\n",
    "\n",
    "agent = globals()[\"AssembleNetResNet\"](config)\n",
    "agent.init_graph(pretrained=False)\n",
    "agent.load_checkpoint(file_path= config.load_file)\n",
    "# agent.validate()\n",
    "\n",
    "\n",
    "agent.compress(method = 'lasso',k=0.7)\n",
    "best,history3 = agent.train(specializing=False, freeze_conv=False)\n",
    "\n",
    "print(count_model_param_nums(agent.model) / 1e6)\n",
    "print(count_model_flops(agent.model, input_res=32)/ 1e9)"
   ]
  },
  {
   "cell_type": "code",
   "execution_count": null,
   "metadata": {
    "scrolled": true
   },
   "outputs": [],
   "source": [
    "import matplotlib.pyplot as plt\n",
    "print(best)\n",
    "plt.plot(history)"
   ]
  },
  {
   "cell_type": "code",
   "execution_count": null,
   "metadata": {
    "scrolled": true
   },
   "outputs": [],
   "source": [
    "agent.model"
   ]
  },
  {
   "cell_type": "code",
   "execution_count": null,
   "metadata": {},
   "outputs": [],
   "source": [
    "agent.optimizer"
   ]
  },
  {
   "cell_type": "code",
   "execution_count": null,
   "metadata": {},
   "outputs": [],
   "source": []
  }
 ],
 "metadata": {
  "kernelspec": {
   "display_name": "pytorch16",
   "language": "python",
   "name": "pytorch16"
  },
  "language_info": {
   "codemirror_mode": {
    "name": "ipython",
    "version": 3
   },
   "file_extension": ".py",
   "mimetype": "text/x-python",
   "name": "python",
   "nbconvert_exporter": "python",
   "pygments_lexer": "ipython3",
   "version": "3.7.7"
  }
 },
 "nbformat": 4,
 "nbformat_minor": 4
}
