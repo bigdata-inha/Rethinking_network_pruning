{
 "cells": [
  {
   "cell_type": "code",
   "execution_count": 1,
   "metadata": {},
   "outputs": [],
   "source": [
    "import argparse\n",
    "import easydict\n",
    "import numpy as np\n",
    "import matplotlib.pyplot as plt\n",
    "\n",
    "from utils.config import *\n",
    "from utils.count_model import *\n",
    "from agents import *"
   ]
  },
  {
   "cell_type": "code",
   "execution_count": 2,
   "metadata": {},
   "outputs": [],
   "source": [
    "config = easydict.EasyDict()\n",
    "config.exp_name = \"assemblenet_imagenet\"\n",
    "config.log_dir = os.path.join(\"experiments\", config.exp_name, \"logs/\")\n",
    "create_dirs([config.log_dir])\n",
    "setup_logging(config.log_dir)\n",
    "\n",
    "config.load_file = os.path.join(\"experiments\", \"resnet18_exp_imagenet_0\", \"checkpoints/checkpoint.pth\")\n",
    "config.cuda = True\n",
    "config.gpu_device = 0\n",
    "config.seed = 1\n",
    "config.learning_rate = 0.001\n",
    "config.momentum = 0.9\n",
    "config.milestones = [5, 10, 15]\n",
    "config.gamma = 0.9\n",
    "config.weight_decay = 0.0005\n",
    "config.img_size = 224\n",
    "config.num_classes = 1000\n",
    "config.data_mode = \"image_folder\"\n",
    "config.data_dir = \"/mnt/disk1/workspace/Datasets/imagenet\"\n",
    "config.data_loader_workers = 8\n",
    "config.pin_memory = True\n",
    "config.async_loading = True\n",
    "config.batch_size = 16\n",
    "config.max_epoch = 3"
   ]
  },
  {
   "cell_type": "markdown",
   "metadata": {},
   "source": [
    "# Knowledge dilstillation"
   ]
  },
  {
   "cell_type": "code",
   "execution_count": 3,
   "metadata": {},
   "outputs": [
    {
     "name": "stderr",
     "output_type": "stream",
     "text": [
      "[INFO]: Program will run on *****GPU-CUDA*****\n",
      "\n",
      "[INFO]: __Python VERSION:  3.7.5 (default, Oct 25 2019, 15:51:11) \n",
      "[GCC 7.3.0]\n",
      "[INFO]: __pyTorch VERSION:  1.3.1\n",
      "[INFO]: __CUDA VERSION\n",
      "[INFO]: Active CUDA Device: GPU 0\n",
      "[INFO]: Available devices  1\n",
      "[INFO]: Current cuda device  0\n",
      "[INFO]: Loading DATA.....\n",
      "[ERROR]: Internal Python error in the inspect module.\n",
      "Below is the traceback from this internal error.\n",
      "\n",
      "[INFO]: \n",
      "Unfortunately, your original traceback can not be constructed.\n",
      "\n"
     ]
    },
    {
     "name": "stdout",
     "output_type": "stream",
     "text": [
      "Traceback (most recent call last):\n",
      "  File \"/home/bigdatainha/miniconda3/envs/pytorch37/lib/python3.7/site-packages/IPython/core/interactiveshell.py\", line 3326, in run_code\n",
      "    exec(code_obj, self.user_global_ns, self.user_ns)\n",
      "  File \"<ipython-input-3-bf58d4244fa5>\", line 10, in <module>\n",
      "    t_agent = globals()[\"AssembleNetResNet\"](config)\n",
      "  File \"/mnt/disk1/workspace/YeongHwa/AssembleNet/agents/assemblenet_renset.py\", line 75, in __init__\n",
      "    self.init_graph()\n",
      "  File \"/mnt/disk1/workspace/YeongHwa/AssembleNet/agents/assemblenet_renset.py\", line 85, in init_graph\n",
      "    self.model = self.model.to(self.device)\n",
      "  File \"/home/bigdatainha/miniconda3/envs/pytorch37/lib/python3.7/site-packages/torch/nn/modules/module.py\", line 426, in to\n",
      "    return self._apply(convert)\n",
      "  File \"/home/bigdatainha/miniconda3/envs/pytorch37/lib/python3.7/site-packages/torch/nn/modules/module.py\", line 202, in _apply\n",
      "    module._apply(fn)\n",
      "  File \"/home/bigdatainha/miniconda3/envs/pytorch37/lib/python3.7/site-packages/torch/nn/modules/module.py\", line 224, in _apply\n",
      "    param_applied = fn(param)\n",
      "  File \"/home/bigdatainha/miniconda3/envs/pytorch37/lib/python3.7/site-packages/torch/nn/modules/module.py\", line 424, in convert\n",
      "    return t.to(device, dtype if t.is_floating_point() else None, non_blocking)\n",
      "KeyboardInterrupt\n",
      "\n",
      "During handling of the above exception, another exception occurred:\n",
      "\n",
      "Traceback (most recent call last):\n",
      "  File \"/home/bigdatainha/miniconda3/envs/pytorch37/lib/python3.7/site-packages/IPython/core/interactiveshell.py\", line 2040, in showtraceback\n",
      "    stb = value._render_traceback_()\n",
      "AttributeError: 'KeyboardInterrupt' object has no attribute '_render_traceback_'\n",
      "\n",
      "During handling of the above exception, another exception occurred:\n",
      "\n",
      "Traceback (most recent call last):\n",
      "  File \"/home/bigdatainha/miniconda3/envs/pytorch37/lib/python3.7/site-packages/IPython/core/ultratb.py\", line 1101, in get_records\n",
      "    return _fixed_getinnerframes(etb, number_of_lines_of_context, tb_offset)\n",
      "  File \"/home/bigdatainha/miniconda3/envs/pytorch37/lib/python3.7/site-packages/IPython/core/ultratb.py\", line 319, in wrapped\n",
      "    return f(*args, **kwargs)\n",
      "  File \"/home/bigdatainha/miniconda3/envs/pytorch37/lib/python3.7/site-packages/IPython/core/ultratb.py\", line 353, in _fixed_getinnerframes\n",
      "    records = fix_frame_records_filenames(inspect.getinnerframes(etb, context))\n",
      "  File \"/home/bigdatainha/miniconda3/envs/pytorch37/lib/python3.7/inspect.py\", line 1502, in getinnerframes\n",
      "    frameinfo = (tb.tb_frame,) + getframeinfo(tb, context)\n",
      "  File \"/home/bigdatainha/miniconda3/envs/pytorch37/lib/python3.7/inspect.py\", line 1460, in getframeinfo\n",
      "    filename = getsourcefile(frame) or getfile(frame)\n",
      "  File \"/home/bigdatainha/miniconda3/envs/pytorch37/lib/python3.7/inspect.py\", line 696, in getsourcefile\n",
      "    if getattr(getmodule(object, filename), '__loader__', None) is not None:\n",
      "  File \"/home/bigdatainha/miniconda3/envs/pytorch37/lib/python3.7/inspect.py\", line 742, in getmodule\n",
      "    os.path.realpath(f)] = module.__name__\n",
      "  File \"/home/bigdatainha/miniconda3/envs/pytorch37/lib/python3.7/posixpath.py\", line 395, in realpath\n",
      "    path, ok = _joinrealpath(filename[:0], filename, {})\n",
      "  File \"/home/bigdatainha/miniconda3/envs/pytorch37/lib/python3.7/posixpath.py\", line 429, in _joinrealpath\n",
      "    if not islink(newpath):\n",
      "  File \"/home/bigdatainha/miniconda3/envs/pytorch37/lib/python3.7/posixpath.py\", line 171, in islink\n",
      "    st = os.lstat(path)\n",
      "KeyboardInterrupt\n"
     ]
    },
    {
     "ename": "KeyboardInterrupt",
     "evalue": "",
     "output_type": "error",
     "traceback": [
      "\u001b[0;31m---------------------------------------------------------------------------\u001b[0m"
     ]
    }
   ],
   "source": [
    "config.batch_size = 32\n",
    "config.max_epoch = 3\n",
    "classes_list = [30, 105, 300, 340, 386, 526, 527, 673, 779, 985]\n",
    "merge_list1 = [30, 105]\n",
    "merge_list2 = [30, 105, 300, 340]\n",
    "merge_list3 = [30, 105, 300, 340, 386, 526]\n",
    "merge_list4 = [30, 105, 300, 340, 386, 526, 527, 673]\n",
    "merge_list5 = [30, 105, 300, 340, 386, 526, 527, 673, 779, 985]\n",
    "\n",
    "t_agent = globals()[\"AssembleNetResNet\"](config)\n",
    "t_agent.init_graph(pretrained=True)\n",
    "t_agent.set_subtask(*merge_list1)\n",
    "best, history = t_agent.train(specializing=True, freeze_conv=False)\n",
    "\n",
    "config.max_epoch = 10\n",
    "agent = globals()[\"AssembleNetResNet\"](config)\n",
    "agent.init_graph(pretrained=False)\n",
    "agent.set_subtask(*merge_list1)\n",
    "agent.compress(method='first_k', k=0.5)\n",
    "history = agent.distill(t_agent, alpha=0.5, T=1)\n",
    "\n",
    "print(agent.best_valid_acc)\n",
    "print(count_model_param_nums(agent.model) / 1e6)\n",
    "print(count_model_flops(agent.model, input_res=224).item() / 1e9)"
   ]
  },
  {
   "cell_type": "code",
   "execution_count": null,
   "metadata": {
    "scrolled": true
   },
   "outputs": [],
   "source": [
    "classes_list = [30, 105, 300, 340, 386, 526, 527, 673, 779, 985]\n",
    "merge_list1 = [30, 105]\n",
    "merge_list2 = [30, 105, 300, 340]\n",
    "merge_list3 = [30, 105, 300, 340, 386, 526]\n",
    "merge_list4 = [30, 105, 300, 340, 386, 526, 527, 673]\n",
    "merge_list5 = [30, 105, 300, 340, 386, 526, 527, 673, 779, 985]\n",
    "agent_list = []\n",
    "config.max_epoch = 3\n",
    "for i in merge_list2:\n",
    "    temp_agent = globals()[\"AssembleNetResNet\"](config)\n",
    "    temp_agent.init_graph(pretrained=True)\n",
    "    cls = i\n",
    "    temp_agent.set_subtask(cls)\n",
    "    temp_agent.compress(method='gradient', k=0.86)\n",
    "    temp_agent.train(specializing=True, freeze_conv=False)\n",
    "    agent_list.append(temp_agent)\n",
    "\n",
    "config.max_epoch = 10\n",
    "agent = globals()[\"AssembleNetResNet\"](config)\n",
    "agent.init_graph(pretrained=False)\n",
    "agent.compress(method='first_k', k=0.5)\n",
    "agent.distill(*agent_list, alpha=0.5, T=1)\n",
    "best, history = agent.train(specializing=True, freeze_conv=False)\n",
    "\n",
    "print(agent.best_valid_acc)\n",
    "print(count_model_param_nums(agent.model) / 1e6)\n",
    "print(count_model_flops(agent.model, input_res=224).item() / 1e9)"
   ]
  },
  {
   "cell_type": "code",
   "execution_count": null,
   "metadata": {
    "scrolled": true
   },
   "outputs": [],
   "source": [
    "classes_list = [30, 105, 300, 340, 386, 526, 527, 673, 779, 985]\n",
    "merge_list1 = [30, 105]\n",
    "merge_list2 = [30, 105, 300, 340]\n",
    "merge_list3 = [30, 105, 300, 340, 386, 526]\n",
    "merge_list4 = [30, 105, 300, 340, 386, 526, 527, 673]\n",
    "merge_list5 = [30, 105, 300, 340, 386, 526, 527, 673, 779, 985]\n",
    "agent_list = []\n",
    "config.max_epoch = 3\n",
    "for i in merge_list3:\n",
    "    temp_agent = globals()[\"AssembleNetResNet\"](config)\n",
    "    temp_agent.init_graph(pretrained=True)\n",
    "    cls = i\n",
    "    temp_agent.set_subtask(cls)\n",
    "    temp_agent.compress(method='gradient', k=0.86)\n",
    "    temp_agent.train(specializing=True, freeze_conv=False)\n",
    "    agent_list.append(temp_agent)\n",
    "\n",
    "config.max_epoch = 10\n",
    "agent = globals()[\"AssembleNetResNet\"](config)\n",
    "agent.init_graph(pretrained=False)\n",
    "agent.compress(method='first_k', k=0.5)\n",
    "agent.distill(*agent_list, alpha=0.5, T=1)\n",
    "best, history = agent.train(specializing=True, freeze_conv=False)\n",
    "\n",
    "print(agent.best_valid_acc)\n",
    "print(count_model_param_nums(agent.model) / 1e6)\n",
    "print(count_model_flops(agent.model, input_res=224).item() / 1e9)"
   ]
  },
  {
   "cell_type": "code",
   "execution_count": null,
   "metadata": {},
   "outputs": [],
   "source": [
    "classes_list = [30, 105, 300, 340, 386, 526, 527, 673, 779, 985]\n",
    "merge_list1 = [30, 105]\n",
    "merge_list2 = [30, 105, 300, 340]\n",
    "merge_list3 = [30, 105, 300, 340, 386, 526]\n",
    "merge_list4 = [30, 105, 300, 340, 386, 526, 527, 673]\n",
    "merge_list5 = [30, 105, 300, 340, 386, 526, 527, 673, 779, 985]\n",
    "agent_list = []\n",
    "config.max_epoch = 3\n",
    "for i in merge_list4:\n",
    "    temp_agent = globals()[\"AssembleNetResNet\"](config)\n",
    "    temp_agent.init_graph(pretrained=True)\n",
    "    cls = i\n",
    "    temp_agent.set_subtask(cls)\n",
    "    temp_agent.compress(method='gradient', k=0.86)\n",
    "    temp_agent.train(specializing=True, freeze_conv=False)\n",
    "    agent_list.append(temp_agent)\n",
    "\n",
    "config.max_epoch = 10\n",
    "agent = globals()[\"AssembleNetResNet\"](config)\n",
    "agent.init_graph(pretrained=False)\n",
    "agent.compress(method='first_k', k=0.5)\n",
    "agent.distill(*agent_list, alpha=0.5, T=1)\n",
    "best, history = agent.train(specializing=True, freeze_conv=False)\n",
    "\n",
    "print(agent.best_valid_acc)\n",
    "print(count_model_param_nums(agent.model) / 1e6)\n",
    "print(count_model_flops(agent.model, input_res=224).item() / 1e9)"
   ]
  },
  {
   "cell_type": "code",
   "execution_count": null,
   "metadata": {},
   "outputs": [],
   "source": [
    "classes_list = [30, 105, 300, 340, 386, 526, 527, 673, 779, 985]\n",
    "merge_list1 = [30, 105]\n",
    "merge_list2 = [30, 105, 300, 340]\n",
    "merge_list3 = [30, 105, 300, 340, 386, 526]\n",
    "merge_list4 = [30, 105, 300, 340, 386, 526, 527, 673]\n",
    "merge_list5 = [30, 105, 300, 340, 386, 526, 527, 673, 779, 985]\n",
    "agent_list = []\n",
    "config.max_epoch = 3\n",
    "for i in merge_list5:\n",
    "    temp_agent = globals()[\"AssembleNetResNet\"](config)\n",
    "    temp_agent.init_graph(pretrained=True)\n",
    "    cls = i\n",
    "    temp_agent.set_subtask(cls)\n",
    "    temp_agent.compress(method='gradient', k=0.86)\n",
    "    temp_agent.train(specializing=True, freeze_conv=False)\n",
    "    agent_list.append(temp_agent)\n",
    "\n",
    "config.max_epoch = 10\n",
    "agent = globals()[\"AssembleNetResNet\"](config)\n",
    "agent.init_graph(pretrained=False)\n",
    "agent.compress(method='first_k', k=0.5)\n",
    "agent.distill(*agent_list, alpha=0.5, T=1)\n",
    "best, history = agent.train(specializing=True, freeze_conv=False)\n",
    "\n",
    "print(agent.best_valid_acc)\n",
    "print(count_model_param_nums(agent.model) / 1e6)\n",
    "print(count_model_flops(agent.model, input_res=224).item() / 1e9)"
   ]
  },
  {
   "cell_type": "code",
   "execution_count": null,
   "metadata": {},
   "outputs": [],
   "source": []
  }
 ],
 "metadata": {
  "kernelspec": {
   "display_name": "Pytorch",
   "language": "python",
   "name": "pytorch"
  },
  "language_info": {
   "codemirror_mode": {
    "name": "ipython",
    "version": 3
   },
   "file_extension": ".py",
   "mimetype": "text/x-python",
   "name": "python",
   "nbconvert_exporter": "python",
   "pygments_lexer": "ipython3",
   "version": "3.7.5"
  },
  "varInspector": {
   "cols": {
    "lenName": 16,
    "lenType": 16,
    "lenVar": 40
   },
   "kernels_config": {
    "python": {
     "delete_cmd_postfix": "",
     "delete_cmd_prefix": "del ",
     "library": "var_list.py",
     "varRefreshCmd": "print(var_dic_list())"
    },
    "r": {
     "delete_cmd_postfix": ") ",
     "delete_cmd_prefix": "rm(",
     "library": "var_list.r",
     "varRefreshCmd": "cat(var_dic_list()) "
    }
   },
   "types_to_exclude": [
    "module",
    "function",
    "builtin_function_or_method",
    "instance",
    "_Feature"
   ],
   "window_display": true
  }
 },
 "nbformat": 4,
 "nbformat_minor": 2
}
