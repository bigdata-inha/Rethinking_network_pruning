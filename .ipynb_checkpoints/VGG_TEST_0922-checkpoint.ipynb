{
 "cells": [
  {
   "cell_type": "code",
   "execution_count": 1,
   "metadata": {},
   "outputs": [],
   "source": [
    "import numpy as np\n",
    "\n",
    "def epoch_avg(res):\n",
    "    for i in range(20):\n",
    "        _list = []\n",
    "        for j in res:\n",
    "            _list.append(j[1][i])\n",
    "        print(np.mean(_list))\n",
    "        \n",
    "def res_avg(res):\n",
    "    for i in res:\n",
    "        print(i[0])"
   ]
  },
  {
   "cell_type": "code",
   "execution_count": 2,
   "metadata": {},
   "outputs": [],
   "source": [
    "import argparse\n",
    "import easydict\n",
    "\n",
    "from utils.config import *\n",
    "from utils.count_model import *\n",
    "from agents import *"
   ]
  },
  {
   "cell_type": "markdown",
   "metadata": {},
   "source": [
    "# 0.1"
   ]
  },
  {
   "cell_type": "code",
   "execution_count": 3,
   "metadata": {
    "scrolled": true
   },
   "outputs": [
    {
     "name": "stdout",
     "output_type": "stream",
     "text": [
      "Files already downloaded and verified\n",
      "num_pruned 26\n",
      "indices_pruned !!!  [10, 11, 16, 20, 24, 25, 26, 27, 31, 32, 41, 43, 49, 58, 60, 42, 22, 13, 8, 33, 23, 63, 14, 61, 6, 59]\n",
      "num_pruned 26\n",
      "indices_pruned !!!  [55, 11, 48, 13, 0, 53, 21, 44, 41, 1, 19, 50, 23, 38, 9, 49, 2, 60, 18, 59, 16, 33, 3, 27, 24, 42]\n",
      "num_pruned 52\n",
      "indices_pruned !!!  [7, 127, 116, 73, 1, 74, 105, 99, 23, 101, 97, 47, 56, 84, 100, 57, 109, 69, 42, 75, 120, 33, 113, 71, 32, 25, 103, 12, 60, 59, 9, 10, 65, 22, 16, 3, 18, 14, 62, 38, 4, 61, 79, 111, 85, 28, 6, 36, 46, 26, 95, 40]\n",
      "num_pruned 52\n",
      "indices_pruned !!!  [113, 1, 32, 27, 88, 89, 82, 15, 125, 33, 118, 81, 37, 23, 101, 119, 53, 43, 67, 126, 54, 122, 75, 73, 93, 92, 6, 103, 83, 44, 74, 13, 28, 110, 98, 8, 31, 30, 115, 0, 52, 114, 3, 47, 68, 66, 34, 55, 77, 56, 2, 107]\n",
      "num_pruned 103\n",
      "indices_pruned !!!  [137, 176, 221, 2, 201, 187, 178, 205, 180, 50, 78, 199, 151, 183, 42, 89, 110, 6, 220, 12, 115, 86, 13, 166, 122, 224, 26, 97, 66, 241, 145, 49, 144, 101, 225, 228, 44, 169, 69, 175, 142, 113, 244, 4, 18, 100, 161, 21, 52, 67, 121, 10, 181, 111, 171, 191, 198, 238, 105, 146, 154, 107, 251, 54, 230, 99, 90, 76, 156, 1, 7, 129, 131, 83, 51, 168, 85, 222, 233, 46, 184, 177, 37, 193, 55, 204, 214, 106, 60, 139, 57, 20, 229, 34, 159, 242, 215, 5, 237, 31, 167, 165, 138]\n",
      "num_pruned 103\n",
      "indices_pruned !!!  [205, 249, 176, 94, 102, 95, 36, 166, 117, 235, 111, 7, 189, 1, 20, 46, 74, 156, 221, 128, 106, 23, 237, 220, 210, 123, 227, 66, 216, 164, 132, 44, 116, 80, 76, 39, 136, 28, 137, 101, 61, 96, 181, 233, 13, 161, 225, 244, 135, 228, 63, 31, 50, 130, 120, 15, 75, 165, 168, 45, 109, 242, 197, 85, 211, 108, 131, 126, 37, 241, 10, 154, 4, 174, 22, 146, 226, 24, 71, 250, 159, 191, 158, 147, 70, 198, 254, 223, 33, 193, 86, 88, 59, 64, 2, 55, 203, 238, 42, 185, 110, 27, 67]\n",
      "num_pruned 103\n",
      "indices_pruned !!!  [121, 203, 234, 49, 249, 25, 151, 104, 216, 152, 38, 30, 92, 71, 16, 76, 83, 73, 40, 162, 120, 42, 37, 95, 163, 168, 89, 35, 150, 51, 252, 113, 187, 231, 94, 186, 72, 14, 182, 93, 239, 236, 119, 221, 243, 90, 160, 128, 240, 50, 198, 39, 33, 219, 15, 82, 56, 245, 52, 213, 201, 77, 220, 54, 212, 43, 199, 4, 97, 20, 200, 28, 191, 146, 91, 106, 2, 177, 126, 125, 10, 227, 174, 208, 195, 55, 58, 17, 238, 190, 88, 81, 206, 224, 136, 214, 192, 209, 210, 211, 197, 144, 205]\n",
      "num_pruned 205\n",
      "indices_pruned !!!  [399, 495, 364, 126, 398, 467, 443, 361, 95, 393, 86, 429, 67, 167, 386, 418, 353, 154, 127, 272, 322, 83, 81, 13, 229, 155, 199, 57, 121, 286, 218, 90, 15, 240, 431, 380, 129, 78, 125, 21, 235, 252, 156, 157, 68, 169, 142, 497, 53, 186, 182, 488, 385, 487, 8, 176, 104, 183, 502, 329, 438, 499, 454, 369, 347, 64, 406, 89, 308, 460, 472, 20, 42, 307, 498, 328, 381, 110, 11, 510, 179, 302, 40, 259, 79, 246, 474, 117, 143, 231, 266, 274, 26, 314, 481, 171, 22, 105, 413, 426, 260, 348, 27, 424, 103, 55, 60, 293, 468, 463, 17, 300, 486, 337, 341, 237, 309, 262, 18, 391, 75, 147, 85, 162, 249, 354, 174, 451, 334, 10, 506, 338, 351, 401, 367, 292, 72, 416, 445, 457, 394, 196, 439, 279, 82, 501, 48, 224, 500, 210, 101, 233, 164, 442, 310, 66, 195, 357, 253, 453, 477, 254, 280, 5, 448, 376, 250, 363, 295, 189, 223, 31, 289, 261, 221, 271, 373, 450, 180, 6, 389, 69, 434, 383, 397, 87, 335, 475, 264, 36, 61, 333, 402, 194, 37, 446, 277, 168, 339, 360, 366, 291, 191, 243, 459]\n",
      "num_pruned 205\n",
      "indices_pruned !!!  [320, 218, 154, 467, 343, 68, 441, 239, 455, 67, 19, 21, 347, 245, 259, 200, 373, 385, 272, 421, 86, 302, 168, 191, 82, 178, 388, 454, 76, 81, 104, 328, 408, 321, 108, 26, 504, 240, 440, 444, 56, 489, 18, 99, 427, 469, 217, 468, 369, 305, 3, 492, 413, 349, 58, 122, 362, 342, 80, 188, 335, 398, 63, 119, 38, 360, 6, 443, 151, 109, 422, 60, 503, 182, 166, 287, 150, 79, 374, 458, 105, 121, 357, 176, 285, 491, 131, 350, 175, 325, 50, 412, 33, 300, 487, 234, 507, 186, 24, 222, 431, 98, 403, 42, 179, 184, 424, 112, 459, 511, 284, 436, 496, 293, 310, 140, 470, 11, 382, 22, 242, 278, 165, 495, 425, 292, 268, 190, 136, 181, 329, 73, 152, 141, 55, 484, 147, 493, 400, 297, 0, 101, 64, 474, 246, 77, 379, 461, 207, 269, 2, 85, 205, 312, 477, 237, 139, 75, 399, 145, 52, 410, 344, 256, 368, 241, 447, 164, 215, 36, 384, 416, 5, 508, 318, 261, 442, 478, 10, 336, 498, 123, 353, 482, 286, 194, 48, 28, 505, 142, 159, 192, 37, 473, 12, 289, 244, 29, 155, 129, 483, 393, 91, 423, 500]\n",
      "num_pruned 205\n",
      "indices_pruned !!!  [38, 403, 185, 136, 43, 462, 196, 470, 169, 182, 106, 244, 308, 71, 113, 44, 481, 161, 254, 367, 230, 381, 476, 3, 181, 412, 122, 330, 294, 13, 441, 398, 81, 65, 226, 194, 503, 25, 444, 507, 295, 266, 440, 206, 98, 211, 468, 47, 96, 418, 388, 338, 293, 360, 497, 272, 361, 22, 171, 421, 155, 247, 93, 379, 54, 191, 477, 192, 256, 472, 384, 208, 202, 324, 270, 147, 285, 135, 275, 69, 509, 114, 337, 371, 473, 296, 298, 216, 17, 31, 434, 157, 245, 392, 241, 495, 465, 455, 320, 82, 454, 4, 91, 101, 99, 257, 100, 207, 463, 228, 35, 221, 85, 139, 435, 333, 325, 334, 125, 80, 369, 451, 409, 249, 287, 505, 235, 268, 227, 76, 493, 77, 289, 353, 110, 269, 319, 251, 57, 231, 436, 390, 138, 387, 174, 164, 105, 286, 153, 233, 68, 129, 248, 115, 372, 132, 408, 291, 59, 271, 380, 10, 12, 474, 404, 89, 492, 234, 95, 70, 339, 156, 274, 307, 471, 1, 442, 58, 193, 397, 424, 140, 374, 143, 445, 205, 36, 350, 448, 508, 222, 383, 283, 489, 60, 56, 309, 209, 378, 351, 304, 407, 348, 149, 329]\n",
      "num_pruned 205\n",
      "indices_pruned !!!  [391, 223, 185, 450, 437, 170, 121, 385, 383, 479, 5, 302, 368, 381, 405, 202, 319, 146, 390, 471, 150, 266, 148, 505, 272, 196, 463, 340, 134, 249, 449, 254, 212, 214, 379, 296, 268, 322, 459, 461, 93, 483, 262, 370, 171, 177, 45, 111, 399, 98, 320, 64, 337, 178, 321, 187, 474, 218, 10, 511, 130, 417, 496, 97, 441, 348, 467, 375, 16, 138, 421, 433, 402, 231, 424, 299, 384, 199, 363, 118, 20, 466, 183, 378, 12, 310, 394, 229, 478, 435, 162, 225, 247, 33, 114, 158, 396, 350, 362, 227, 11, 446, 19, 312, 84, 35, 96, 493, 339, 208, 431, 356, 462, 365, 65, 487, 236, 328, 226, 125, 423, 156, 104, 318, 430, 308, 122, 36, 341, 235, 207, 401, 455, 452, 382, 491, 74, 160, 393, 327, 86, 301, 283, 440, 419, 267, 373, 499, 154, 367, 24, 213, 71, 72, 48, 432, 47, 346, 298, 219, 334, 95, 246, 105, 28, 79, 251, 288, 164, 1, 61, 508, 63, 482, 307, 355, 510, 15, 76, 439, 315, 192, 411, 237, 445, 354, 38, 406, 376, 58, 7, 216, 91, 52, 107, 372, 193, 361, 174, 253, 78, 264, 408, 112, 255]\n",
      "num_pruned 205\n",
      "indices_pruned !!!  [10, 415, 364, 383, 342, 319, 296, 126, 344, 174, 474, 421, 489, 374, 310, 214, 353, 394, 153, 418, 316, 110, 381, 275, 204, 102, 250, 350, 1, 307, 468, 466, 158, 168, 166, 359, 379, 322, 210, 5, 26, 165, 321, 502, 286, 503, 464, 433, 86, 109, 198, 303, 485, 156, 292, 128, 69, 179, 154, 404, 245, 70, 349, 136, 293, 72, 351, 297, 414, 42, 172, 142, 461, 88, 87, 234, 492, 56, 222, 58, 15, 252, 90, 388, 195, 64, 331, 254, 39, 83, 191, 417, 376, 259, 119, 243, 232, 467, 202, 187, 53, 401, 17, 399, 271, 122, 84, 242, 237, 94, 496, 450, 267, 491, 97, 505, 35, 78, 2, 45, 212, 89, 180, 217, 438, 99, 96, 255, 244, 462, 111, 453, 49, 92, 71, 277, 320, 358, 196, 347, 264, 197, 246, 28, 62, 488, 206, 413, 129, 409, 276, 365, 11, 66, 85, 249, 38, 448, 203, 48, 139, 341, 334, 306, 147, 371, 373, 480, 34, 171, 13, 251, 80, 333, 121, 149, 138, 403, 372, 498, 159, 486, 228, 410, 442, 312, 346, 247, 469, 300, 31, 434, 509, 167, 483, 125, 435, 248, 235, 238, 93, 443, 366, 0, 200]\n"
     ]
    },
    {
     "name": "stderr",
     "output_type": "stream",
     "text": [
      "Epoch-0-: 100%|████████████████████████████████████████████████████████████████████| 1563/1563 [00:37<00:00, 42.03it/s]\n",
      "Valiation at -0-:   0%|                                                                        | 0/313 [00:00<?, ?it/s]"
     ]
    },
    {
     "name": "stdout",
     "output_type": "stream",
     "text": [
      "Training at epoch-0 | loss: 2.26036071563789\tTop1 Acc: 0.41752\n"
     ]
    },
    {
     "name": "stderr",
     "output_type": "stream",
     "text": [
      "Valiation at -0-: 100%|██████████████████████████████████████████████████████████████| 313/313 [00:04<00:00, 67.34it/s]\n",
      "C:\\Users\\USER001\\miniconda3\\envs\\pytorch16\\lib\\site-packages\\torch\\optim\\lr_scheduler.py:143: UserWarning: The epoch parameter in `scheduler.step()` was not necessary and is being deprecated where possible. Please use `scheduler.step()` to step the scheduler. During the deprecation, if epoch is different from None, the closed form is used instead of the new chainable form, where available. Please open an issue if you are unable to replicate your use case: https://github.com/pytorch/pytorch/issues/new/choose.\n",
      "  warnings.warn(EPOCH_DEPRECATION_WARNING, UserWarning)\n",
      "Epoch-1-:   0%|                                                                               | 0/1563 [00:00<?, ?it/s]"
     ]
    },
    {
     "name": "stdout",
     "output_type": "stream",
     "text": [
      "Validation results at epoch-0 | loss: 1.7203446297219005\tTop1 Acc: 0.5315\n"
     ]
    },
    {
     "name": "stderr",
     "output_type": "stream",
     "text": [
      "Epoch-1-:  59%|████████████████████████████████████████▊                            | 924/1563 [00:24<00:16, 38.36it/s]\n"
     ]
    },
    {
     "ename": "KeyboardInterrupt",
     "evalue": "",
     "output_type": "error",
     "traceback": [
      "\u001b[1;31m---------------------------------------------------------------------------\u001b[0m",
      "\u001b[1;31mKeyboardInterrupt\u001b[0m                         Traceback (most recent call last)",
      "\u001b[1;32m<ipython-input-3-15f2d02d211c>\u001b[0m in \u001b[0;36m<module>\u001b[1;34m\u001b[0m\n\u001b[0;32m     24\u001b[0m \u001b[0magent\u001b[0m\u001b[1;33m.\u001b[0m\u001b[0mload_checkpoint\u001b[0m\u001b[1;33m(\u001b[0m\u001b[0mconfig\u001b[0m\u001b[1;33m.\u001b[0m\u001b[0mload_file\u001b[0m\u001b[1;33m)\u001b[0m\u001b[1;33m\u001b[0m\u001b[1;33m\u001b[0m\u001b[0m\n\u001b[0;32m     25\u001b[0m \u001b[0magent\u001b[0m\u001b[1;33m.\u001b[0m\u001b[0mcompress\u001b[0m\u001b[1;33m(\u001b[0m\u001b[0mmethod\u001b[0m \u001b[1;33m=\u001b[0m \u001b[1;34m'greedy'\u001b[0m\u001b[1;33m,\u001b[0m\u001b[0mk\u001b[0m\u001b[1;33m=\u001b[0m\u001b[1;36m0.6\u001b[0m\u001b[1;33m)\u001b[0m\u001b[1;33m\u001b[0m\u001b[1;33m\u001b[0m\u001b[0m\n\u001b[1;32m---> 26\u001b[1;33m \u001b[0mbest\u001b[0m \u001b[1;33m=\u001b[0m \u001b[0magent\u001b[0m\u001b[1;33m.\u001b[0m\u001b[0mtrain\u001b[0m\u001b[1;33m(\u001b[0m\u001b[0mspecializing\u001b[0m\u001b[1;33m=\u001b[0m\u001b[1;32mFalse\u001b[0m\u001b[1;33m,\u001b[0m \u001b[0mfreeze_conv\u001b[0m\u001b[1;33m=\u001b[0m\u001b[1;32mFalse\u001b[0m\u001b[1;33m)\u001b[0m\u001b[1;33m\u001b[0m\u001b[1;33m\u001b[0m\u001b[0m\n\u001b[0m\u001b[0;32m     27\u001b[0m \u001b[1;33m\u001b[0m\u001b[0m\n\u001b[0;32m     28\u001b[0m \u001b[0mprint\u001b[0m\u001b[1;33m(\u001b[0m\u001b[0mcount_model_param_nums\u001b[0m\u001b[1;33m(\u001b[0m\u001b[0magent\u001b[0m\u001b[1;33m.\u001b[0m\u001b[0mmodel\u001b[0m\u001b[1;33m)\u001b[0m \u001b[1;33m/\u001b[0m \u001b[1;36m1e6\u001b[0m\u001b[1;33m)\u001b[0m\u001b[1;33m\u001b[0m\u001b[1;33m\u001b[0m\u001b[0m\n",
      "\u001b[1;32m~\\Desktop\\For_KCC\\utils\\misc.py\u001b[0m in \u001b[0;36mtimed\u001b[1;34m(*args, **kwargs)\u001b[0m\n\u001b[0;32m      8\u001b[0m     \u001b[1;32mdef\u001b[0m \u001b[0mtimed\u001b[0m\u001b[1;33m(\u001b[0m\u001b[1;33m*\u001b[0m\u001b[0margs\u001b[0m\u001b[1;33m,\u001b[0m \u001b[1;33m**\u001b[0m\u001b[0mkwargs\u001b[0m\u001b[1;33m)\u001b[0m\u001b[1;33m:\u001b[0m\u001b[1;33m\u001b[0m\u001b[1;33m\u001b[0m\u001b[0m\n\u001b[0;32m      9\u001b[0m         \u001b[0mstart_time\u001b[0m \u001b[1;33m=\u001b[0m \u001b[0mtime\u001b[0m\u001b[1;33m.\u001b[0m\u001b[0mtime\u001b[0m\u001b[1;33m(\u001b[0m\u001b[1;33m)\u001b[0m\u001b[1;33m\u001b[0m\u001b[1;33m\u001b[0m\u001b[0m\n\u001b[1;32m---> 10\u001b[1;33m         \u001b[0mresult\u001b[0m \u001b[1;33m=\u001b[0m \u001b[0mf\u001b[0m\u001b[1;33m(\u001b[0m\u001b[1;33m*\u001b[0m\u001b[0margs\u001b[0m\u001b[1;33m,\u001b[0m \u001b[1;33m**\u001b[0m\u001b[0mkwargs\u001b[0m\u001b[1;33m)\u001b[0m\u001b[1;33m\u001b[0m\u001b[1;33m\u001b[0m\u001b[0m\n\u001b[0m\u001b[0;32m     11\u001b[0m         \u001b[0mend_time\u001b[0m \u001b[1;33m=\u001b[0m \u001b[0mtime\u001b[0m\u001b[1;33m.\u001b[0m\u001b[0mtime\u001b[0m\u001b[1;33m(\u001b[0m\u001b[1;33m)\u001b[0m\u001b[1;33m\u001b[0m\u001b[1;33m\u001b[0m\u001b[0m\n\u001b[0;32m     12\u001b[0m         \u001b[0mseconds\u001b[0m \u001b[1;33m=\u001b[0m \u001b[0mend_time\u001b[0m \u001b[1;33m-\u001b[0m \u001b[0mstart_time\u001b[0m\u001b[1;33m\u001b[0m\u001b[1;33m\u001b[0m\u001b[0m\n",
      "\u001b[1;32m~\\Desktop\\For_KCC\\agents\\VGG_BN_cifar.py\u001b[0m in \u001b[0;36mtrain\u001b[1;34m(self, specializing, freeze_conv)\u001b[0m\n\u001b[0;32m    330\u001b[0m         \u001b[1;32mfor\u001b[0m \u001b[0mepoch\u001b[0m \u001b[1;32min\u001b[0m \u001b[0mrange\u001b[0m\u001b[1;33m(\u001b[0m\u001b[0mself\u001b[0m\u001b[1;33m.\u001b[0m\u001b[0mconfig\u001b[0m\u001b[1;33m.\u001b[0m\u001b[0mmax_epoch\u001b[0m\u001b[1;33m)\u001b[0m\u001b[1;33m:\u001b[0m\u001b[1;33m\u001b[0m\u001b[1;33m\u001b[0m\u001b[0m\n\u001b[0;32m    331\u001b[0m             \u001b[0mself\u001b[0m\u001b[1;33m.\u001b[0m\u001b[0mcurrent_epoch\u001b[0m \u001b[1;33m=\u001b[0m \u001b[0mepoch\u001b[0m\u001b[1;33m\u001b[0m\u001b[1;33m\u001b[0m\u001b[0m\n\u001b[1;32m--> 332\u001b[1;33m             \u001b[0mself\u001b[0m\u001b[1;33m.\u001b[0m\u001b[0mtrain_one_epoch\u001b[0m\u001b[1;33m(\u001b[0m\u001b[0mspecializing\u001b[0m\u001b[1;33m)\u001b[0m\u001b[1;33m\u001b[0m\u001b[1;33m\u001b[0m\u001b[0m\n\u001b[0m\u001b[0;32m    333\u001b[0m \u001b[1;33m\u001b[0m\u001b[0m\n\u001b[0;32m    334\u001b[0m             \u001b[1;32mif\u001b[0m \u001b[0mspecializing\u001b[0m\u001b[1;33m:\u001b[0m\u001b[1;33m\u001b[0m\u001b[1;33m\u001b[0m\u001b[0m\n",
      "\u001b[1;32m~\\Desktop\\For_KCC\\agents\\VGG_BN_cifar.py\u001b[0m in \u001b[0;36mtrain_one_epoch\u001b[1;34m(self, specializing)\u001b[0m\n\u001b[0;32m    385\u001b[0m                 \u001b[1;32mraise\u001b[0m \u001b[0mValueError\u001b[0m\u001b[1;33m(\u001b[0m\u001b[1;34m'Loss is nan during training...'\u001b[0m\u001b[1;33m)\u001b[0m\u001b[1;33m\u001b[0m\u001b[1;33m\u001b[0m\u001b[0m\n\u001b[0;32m    386\u001b[0m \u001b[1;33m\u001b[0m\u001b[0m\n\u001b[1;32m--> 387\u001b[1;33m             \u001b[0mcur_loss\u001b[0m\u001b[1;33m.\u001b[0m\u001b[0mbackward\u001b[0m\u001b[1;33m(\u001b[0m\u001b[1;33m)\u001b[0m\u001b[1;33m\u001b[0m\u001b[1;33m\u001b[0m\u001b[0m\n\u001b[0m\u001b[0;32m    388\u001b[0m             \u001b[0mself\u001b[0m\u001b[1;33m.\u001b[0m\u001b[0moptimizer\u001b[0m\u001b[1;33m.\u001b[0m\u001b[0mstep\u001b[0m\u001b[1;33m(\u001b[0m\u001b[1;33m)\u001b[0m\u001b[1;33m\u001b[0m\u001b[1;33m\u001b[0m\u001b[0m\n\u001b[0;32m    389\u001b[0m \u001b[1;33m\u001b[0m\u001b[0m\n",
      "\u001b[1;32m~\\miniconda3\\envs\\pytorch16\\lib\\site-packages\\torch\\tensor.py\u001b[0m in \u001b[0;36mbackward\u001b[1;34m(self, gradient, retain_graph, create_graph)\u001b[0m\n\u001b[0;32m    183\u001b[0m                 \u001b[0mproducts\u001b[0m\u001b[1;33m.\u001b[0m \u001b[0mDefaults\u001b[0m \u001b[0mto\u001b[0m\u001b[0;31m \u001b[0m\u001b[0;31m`\u001b[0m\u001b[0;31m`\u001b[0m\u001b[1;32mFalse\u001b[0m\u001b[0;31m`\u001b[0m\u001b[0;31m`\u001b[0m\u001b[1;33m.\u001b[0m\u001b[1;33m\u001b[0m\u001b[1;33m\u001b[0m\u001b[0m\n\u001b[0;32m    184\u001b[0m         \"\"\"\n\u001b[1;32m--> 185\u001b[1;33m         \u001b[0mtorch\u001b[0m\u001b[1;33m.\u001b[0m\u001b[0mautograd\u001b[0m\u001b[1;33m.\u001b[0m\u001b[0mbackward\u001b[0m\u001b[1;33m(\u001b[0m\u001b[0mself\u001b[0m\u001b[1;33m,\u001b[0m \u001b[0mgradient\u001b[0m\u001b[1;33m,\u001b[0m \u001b[0mretain_graph\u001b[0m\u001b[1;33m,\u001b[0m \u001b[0mcreate_graph\u001b[0m\u001b[1;33m)\u001b[0m\u001b[1;33m\u001b[0m\u001b[1;33m\u001b[0m\u001b[0m\n\u001b[0m\u001b[0;32m    186\u001b[0m \u001b[1;33m\u001b[0m\u001b[0m\n\u001b[0;32m    187\u001b[0m     \u001b[1;32mdef\u001b[0m \u001b[0mregister_hook\u001b[0m\u001b[1;33m(\u001b[0m\u001b[0mself\u001b[0m\u001b[1;33m,\u001b[0m \u001b[0mhook\u001b[0m\u001b[1;33m)\u001b[0m\u001b[1;33m:\u001b[0m\u001b[1;33m\u001b[0m\u001b[1;33m\u001b[0m\u001b[0m\n",
      "\u001b[1;32m~\\miniconda3\\envs\\pytorch16\\lib\\site-packages\\torch\\autograd\\__init__.py\u001b[0m in \u001b[0;36mbackward\u001b[1;34m(tensors, grad_tensors, retain_graph, create_graph, grad_variables)\u001b[0m\n\u001b[0;32m    125\u001b[0m     Variable._execution_engine.run_backward(\n\u001b[0;32m    126\u001b[0m         \u001b[0mtensors\u001b[0m\u001b[1;33m,\u001b[0m \u001b[0mgrad_tensors\u001b[0m\u001b[1;33m,\u001b[0m \u001b[0mretain_graph\u001b[0m\u001b[1;33m,\u001b[0m \u001b[0mcreate_graph\u001b[0m\u001b[1;33m,\u001b[0m\u001b[1;33m\u001b[0m\u001b[1;33m\u001b[0m\u001b[0m\n\u001b[1;32m--> 127\u001b[1;33m         allow_unreachable=True)  # allow_unreachable flag\n\u001b[0m\u001b[0;32m    128\u001b[0m \u001b[1;33m\u001b[0m\u001b[0m\n\u001b[0;32m    129\u001b[0m \u001b[1;33m\u001b[0m\u001b[0m\n",
      "\u001b[1;31mKeyboardInterrupt\u001b[0m: "
     ]
    }
   ],
   "source": [
    "config = easydict.EasyDict()\n",
    "config.exp_name = \"vgg16_exp_cifar100_0\"\n",
    "config.log_dir = os.path.join(\"experiments\", config.exp_name, \"logs/\")\n",
    "\n",
    "config.load_file = os.path.join(\"experiments\", \"vgg16_exp_cifar100_0\",\"checkpoints\", \"checkpoint.pth\")\n",
    "config.cuda = True\n",
    "config.gpu_device = 0\n",
    "config.seed = 1\n",
    "config.milestones = [5, 10,15]\n",
    "config.gamma = 0.9\n",
    "config.img_size = 32\n",
    "config.num_classes = 100\n",
    "config.data_mode = \"download\"\n",
    "config.data_loader_workers = 4\n",
    "config.pin_memory = True\n",
    "config.async_loading = True\n",
    "config.batch_size = 32\n",
    "config.async_loading = True\n",
    "config.max_epoch = 20\n",
    "torch.cuda.init()\n",
    "\n",
    "agent = globals()[\"VGG_BN_cifar\"](config)\n",
    "agent.init_graph()\n",
    "agent.load_checkpoint(config.load_file)\n",
    "agent.compress(method = 'greedy',k=0.6)\n",
    "best = agent.train(specializing=False, freeze_conv=False)\n",
    "\n",
    "print(count_model_param_nums(agent.model) / 1e6)\n",
    "print(count_model_flops(agent.model, input_res=32)/ 1e9)\n"
   ]
  },
  {
   "cell_type": "code",
   "execution_count": 9,
   "metadata": {},
   "outputs": [
    {
     "name": "stderr",
     "output_type": "stream",
     "text": [
      "Epoch-0-: 100%|████████████████████████████████████████████████████████████████████| 1563/1563 [00:39<00:00, 39.14it/s]\n",
      "Valiation at -0-:   0%|                                                                        | 0/313 [00:00<?, ?it/s]"
     ]
    },
    {
     "name": "stdout",
     "output_type": "stream",
     "text": [
      "Training at epoch-0 | loss: 1.6793065267118672\tTop1 Acc: 0.54318\n"
     ]
    },
    {
     "name": "stderr",
     "output_type": "stream",
     "text": [
      "Valiation at -0-: 100%|██████████████████████████████████████████████████████████████| 313/313 [00:04<00:00, 70.63it/s]\n",
      "C:\\Users\\USER001\\miniconda3\\envs\\pytorch16\\lib\\site-packages\\torch\\optim\\lr_scheduler.py:143: UserWarning: The epoch parameter in `scheduler.step()` was not necessary and is being deprecated where possible. Please use `scheduler.step()` to step the scheduler. During the deprecation, if epoch is different from None, the closed form is used instead of the new chainable form, where available. Please open an issue if you are unable to replicate your use case: https://github.com/pytorch/pytorch/issues/new/choose.\n",
      "  warnings.warn(EPOCH_DEPRECATION_WARNING, UserWarning)\n",
      "Epoch-1-:   0%|                                                                               | 0/1563 [00:00<?, ?it/s]"
     ]
    },
    {
     "name": "stdout",
     "output_type": "stream",
     "text": [
      "Validation results at epoch-0 | loss: 1.5252650048786078\tTop1 Acc: 0.5806\n"
     ]
    },
    {
     "name": "stderr",
     "output_type": "stream",
     "text": [
      "Epoch-1-: 100%|████████████████████████████████████████████████████████████████████| 1563/1563 [00:38<00:00, 40.90it/s]\n",
      "Valiation at -1-:   0%|                                                                        | 0/313 [00:00<?, ?it/s]"
     ]
    },
    {
     "name": "stdout",
     "output_type": "stream",
     "text": [
      "Training at epoch-1 | loss: 1.4881737331740001\tTop1 Acc: 0.59078\n"
     ]
    },
    {
     "name": "stderr",
     "output_type": "stream",
     "text": [
      "Valiation at -1-: 100%|██████████████████████████████████████████████████████████████| 313/313 [00:04<00:00, 64.18it/s]\n",
      "Epoch-2-:   0%|                                                                               | 0/1563 [00:00<?, ?it/s]"
     ]
    },
    {
     "name": "stdout",
     "output_type": "stream",
     "text": [
      "Validation results at epoch-1 | loss: 1.4996209382630004\tTop1 Acc: 0.5943\n"
     ]
    },
    {
     "name": "stderr",
     "output_type": "stream",
     "text": [
      "Epoch-2-: 100%|████████████████████████████████████████████████████████████████████| 1563/1563 [00:38<00:00, 40.35it/s]\n",
      "Valiation at -2-:   0%|                                                                        | 0/313 [00:00<?, ?it/s]"
     ]
    },
    {
     "name": "stdout",
     "output_type": "stream",
     "text": [
      "Training at epoch-2 | loss: 1.38000666732904\tTop1 Acc: 0.6176\n"
     ]
    },
    {
     "name": "stderr",
     "output_type": "stream",
     "text": [
      "Valiation at -2-: 100%|██████████████████████████████████████████████████████████████| 313/313 [00:04<00:00, 63.47it/s]\n",
      "Epoch-3-:   0%|                                                                               | 0/1563 [00:00<?, ?it/s]"
     ]
    },
    {
     "name": "stdout",
     "output_type": "stream",
     "text": [
      "Validation results at epoch-2 | loss: 1.418368852747896\tTop1 Acc: 0.6109\n"
     ]
    },
    {
     "name": "stderr",
     "output_type": "stream",
     "text": [
      "Epoch-3-: 100%|████████████████████████████████████████████████████████████████████| 1563/1563 [00:39<00:00, 39.86it/s]\n",
      "Valiation at -3-:   0%|                                                                        | 0/313 [00:00<?, ?it/s]"
     ]
    },
    {
     "name": "stdout",
     "output_type": "stream",
     "text": [
      "Training at epoch-3 | loss: 1.2929648208221562\tTop1 Acc: 0.63806\n"
     ]
    },
    {
     "name": "stderr",
     "output_type": "stream",
     "text": [
      "Valiation at -3-: 100%|██████████████████████████████████████████████████████████████| 313/313 [00:05<00:00, 61.03it/s]\n",
      "Epoch-4-:   0%|                                                                               | 0/1563 [00:00<?, ?it/s]"
     ]
    },
    {
     "name": "stdout",
     "output_type": "stream",
     "text": [
      "Validation results at epoch-3 | loss: 1.3686803682162738\tTop1 Acc: 0.6251\n"
     ]
    },
    {
     "name": "stderr",
     "output_type": "stream",
     "text": [
      "Epoch-4-: 100%|████████████████████████████████████████████████████████████████████| 1563/1563 [00:38<00:00, 40.41it/s]\n",
      "Valiation at -4-:   0%|                                                                        | 0/313 [00:00<?, ?it/s]"
     ]
    },
    {
     "name": "stdout",
     "output_type": "stream",
     "text": [
      "Training at epoch-4 | loss: 1.2241692865077913\tTop1 Acc: 0.65702\n"
     ]
    },
    {
     "name": "stderr",
     "output_type": "stream",
     "text": [
      "Valiation at -4-: 100%|██████████████████████████████████████████████████████████████| 313/313 [00:06<00:00, 51.43it/s]\n",
      "Epoch-5-:   0%|                                                                               | 0/1563 [00:00<?, ?it/s]"
     ]
    },
    {
     "name": "stdout",
     "output_type": "stream",
     "text": [
      "Validation results at epoch-4 | loss: 1.3674895304460495\tTop1 Acc: 0.6317\n"
     ]
    },
    {
     "name": "stderr",
     "output_type": "stream",
     "text": [
      "Epoch-5-: 100%|████████████████████████████████████████████████████████████████████| 1563/1563 [00:39<00:00, 39.68it/s]\n",
      "Valiation at -5-:   0%|                                                                        | 0/313 [00:00<?, ?it/s]"
     ]
    },
    {
     "name": "stdout",
     "output_type": "stream",
     "text": [
      "Training at epoch-5 | loss: 1.1681792328011433\tTop1 Acc: 0.67236\n"
     ]
    },
    {
     "name": "stderr",
     "output_type": "stream",
     "text": [
      "Valiation at -5-: 100%|██████████████████████████████████████████████████████████████| 313/313 [00:04<00:00, 65.94it/s]\n",
      "Epoch-6-:   0%|                                                                               | 0/1563 [00:00<?, ?it/s]"
     ]
    },
    {
     "name": "stdout",
     "output_type": "stream",
     "text": [
      "Validation results at epoch-5 | loss: 1.3343095126243445\tTop1 Acc: 0.637\n"
     ]
    },
    {
     "name": "stderr",
     "output_type": "stream",
     "text": [
      "Epoch-6-: 100%|████████████████████████████████████████████████████████████████████| 1563/1563 [00:38<00:00, 41.04it/s]\n",
      "Valiation at -6-:   0%|                                                                        | 0/313 [00:00<?, ?it/s]"
     ]
    },
    {
     "name": "stdout",
     "output_type": "stream",
     "text": [
      "Training at epoch-6 | loss: 1.1073781310825568\tTop1 Acc: 0.68596\n"
     ]
    },
    {
     "name": "stderr",
     "output_type": "stream",
     "text": [
      "Valiation at -6-: 100%|██████████████████████████████████████████████████████████████| 313/313 [00:06<00:00, 48.76it/s]\n",
      "Epoch-7-:   0%|                                                                               | 0/1563 [00:00<?, ?it/s]"
     ]
    },
    {
     "name": "stdout",
     "output_type": "stream",
     "text": [
      "Validation results at epoch-6 | loss: 1.3481995015860366\tTop1 Acc: 0.6442\n"
     ]
    },
    {
     "name": "stderr",
     "output_type": "stream",
     "text": [
      "Epoch-7-: 100%|████████████████████████████████████████████████████████████████████| 1563/1563 [00:38<00:00, 40.12it/s]\n",
      "Valiation at -7-:   0%|                                                                        | 0/313 [00:00<?, ?it/s]"
     ]
    },
    {
     "name": "stdout",
     "output_type": "stream",
     "text": [
      "Training at epoch-7 | loss: 1.072611235134585\tTop1 Acc: 0.6935\n"
     ]
    },
    {
     "name": "stderr",
     "output_type": "stream",
     "text": [
      "Valiation at -7-: 100%|██████████████████████████████████████████████████████████████| 313/313 [00:04<00:00, 66.69it/s]\n",
      "Epoch-8-:   0%|                                                                               | 0/1563 [00:00<?, ?it/s]"
     ]
    },
    {
     "name": "stdout",
     "output_type": "stream",
     "text": [
      "Validation results at epoch-7 | loss: 1.3276533164536228\tTop1 Acc: 0.6502\n"
     ]
    },
    {
     "name": "stderr",
     "output_type": "stream",
     "text": [
      "Epoch-8-: 100%|████████████████████████████████████████████████████████████████████| 1563/1563 [00:36<00:00, 42.53it/s]\n",
      "Valiation at -8-:   0%|                                                                        | 0/313 [00:00<?, ?it/s]"
     ]
    },
    {
     "name": "stdout",
     "output_type": "stream",
     "text": [
      "Training at epoch-8 | loss: 1.0371633841109749\tTop1 Acc: 0.70404\n"
     ]
    },
    {
     "name": "stderr",
     "output_type": "stream",
     "text": [
      "Valiation at -8-: 100%|██████████████████████████████████████████████████████████████| 313/313 [00:06<00:00, 52.00it/s]\n",
      "Epoch-9-:   0%|                                                                               | 0/1563 [00:00<?, ?it/s]"
     ]
    },
    {
     "name": "stdout",
     "output_type": "stream",
     "text": [
      "Validation results at epoch-8 | loss: 1.3250105219146313\tTop1 Acc: 0.6518\n"
     ]
    },
    {
     "name": "stderr",
     "output_type": "stream",
     "text": [
      "Epoch-9-: 100%|████████████████████████████████████████████████████████████████████| 1563/1563 [00:38<00:00, 40.22it/s]\n",
      "Valiation at -9-:   0%|                                                                        | 0/313 [00:00<?, ?it/s]"
     ]
    },
    {
     "name": "stdout",
     "output_type": "stream",
     "text": [
      "Training at epoch-9 | loss: 1.013239889669632\tTop1 Acc: 0.7106\n"
     ]
    },
    {
     "name": "stderr",
     "output_type": "stream",
     "text": [
      "Valiation at -9-: 100%|██████████████████████████████████████████████████████████████| 313/313 [00:04<00:00, 69.75it/s]\n",
      "Epoch-10-:   0%|                                                                              | 0/1563 [00:00<?, ?it/s]"
     ]
    },
    {
     "name": "stdout",
     "output_type": "stream",
     "text": [
      "Validation results at epoch-9 | loss: 1.3549790276696507\tTop1 Acc: 0.6473\n"
     ]
    },
    {
     "name": "stderr",
     "output_type": "stream",
     "text": [
      "Epoch-10-: 100%|███████████████████████████████████████████████████████████████████| 1563/1563 [00:37<00:00, 42.02it/s]\n",
      "Valiation at -10-:   0%|                                                                       | 0/313 [00:00<?, ?it/s]"
     ]
    },
    {
     "name": "stdout",
     "output_type": "stream",
     "text": [
      "Training at epoch-10 | loss: 0.9759381338143608\tTop1 Acc: 0.7204\n"
     ]
    },
    {
     "name": "stderr",
     "output_type": "stream",
     "text": [
      "Valiation at -10-: 100%|█████████████████████████████████████████████████████████████| 313/313 [00:05<00:00, 60.74it/s]\n",
      "Epoch-11-:   0%|                                                                              | 0/1563 [00:00<?, ?it/s]"
     ]
    },
    {
     "name": "stdout",
     "output_type": "stream",
     "text": [
      "Validation results at epoch-10 | loss: 1.3335134552690548\tTop1 Acc: 0.6482\n"
     ]
    },
    {
     "name": "stderr",
     "output_type": "stream",
     "text": [
      "Epoch-11-: 100%|███████████████████████████████████████████████████████████████████| 1563/1563 [00:38<00:00, 40.25it/s]\n",
      "Valiation at -11-:   0%|                                                                       | 0/313 [00:00<?, ?it/s]"
     ]
    },
    {
     "name": "stdout",
     "output_type": "stream",
     "text": [
      "Training at epoch-11 | loss: 0.9537050311220661\tTop1 Acc: 0.72622\n"
     ]
    },
    {
     "name": "stderr",
     "output_type": "stream",
     "text": [
      "Valiation at -11-: 100%|█████████████████████████████████████████████████████████████| 313/313 [00:04<00:00, 70.61it/s]\n",
      "Epoch-12-:   0%|                                                                              | 0/1563 [00:00<?, ?it/s]"
     ]
    },
    {
     "name": "stdout",
     "output_type": "stream",
     "text": [
      "Validation results at epoch-11 | loss: 1.3339922124394974\tTop1 Acc: 0.6501\n"
     ]
    },
    {
     "name": "stderr",
     "output_type": "stream",
     "text": [
      "Epoch-12-: 100%|███████████████████████████████████████████████████████████████████| 1563/1563 [00:37<00:00, 41.29it/s]\n",
      "Valiation at -12-:   0%|                                                                       | 0/313 [00:00<?, ?it/s]"
     ]
    },
    {
     "name": "stdout",
     "output_type": "stream",
     "text": [
      "Training at epoch-12 | loss: 0.9188956340306551\tTop1 Acc: 0.73432\n"
     ]
    },
    {
     "name": "stderr",
     "output_type": "stream",
     "text": [
      "Valiation at -12-: 100%|█████████████████████████████████████████████████████████████| 313/313 [00:05<00:00, 61.82it/s]\n",
      "Epoch-13-:   0%|                                                                              | 0/1563 [00:00<?, ?it/s]"
     ]
    },
    {
     "name": "stdout",
     "output_type": "stream",
     "text": [
      "Validation results at epoch-12 | loss: 1.3418938824163078\tTop1 Acc: 0.6529\n"
     ]
    },
    {
     "name": "stderr",
     "output_type": "stream",
     "text": [
      "Epoch-13-: 100%|███████████████████████████████████████████████████████████████████| 1563/1563 [00:39<00:00, 40.05it/s]\n",
      "Valiation at -13-:   0%|                                                                       | 0/313 [00:00<?, ?it/s]"
     ]
    },
    {
     "name": "stdout",
     "output_type": "stream",
     "text": [
      "Training at epoch-13 | loss: 0.8964748194563945\tTop1 Acc: 0.74188\n"
     ]
    },
    {
     "name": "stderr",
     "output_type": "stream",
     "text": [
      "Valiation at -13-: 100%|█████████████████████████████████████████████████████████████| 313/313 [00:04<00:00, 70.52it/s]\n",
      "Epoch-14-:   0%|                                                                              | 0/1563 [00:00<?, ?it/s]"
     ]
    },
    {
     "name": "stdout",
     "output_type": "stream",
     "text": [
      "Validation results at epoch-13 | loss: 1.3242379664041746\tTop1 Acc: 0.6561\n"
     ]
    },
    {
     "name": "stderr",
     "output_type": "stream",
     "text": [
      "Epoch-14-: 100%|███████████████████████████████████████████████████████████████████| 1563/1563 [00:38<00:00, 40.82it/s]\n",
      "Valiation at -14-:   0%|                                                                       | 0/313 [00:00<?, ?it/s]"
     ]
    },
    {
     "name": "stdout",
     "output_type": "stream",
     "text": [
      "Training at epoch-14 | loss: 0.875252846506873\tTop1 Acc: 0.74934\n"
     ]
    },
    {
     "name": "stderr",
     "output_type": "stream",
     "text": [
      "Valiation at -14-: 100%|█████████████████████████████████████████████████████████████| 313/313 [00:05<00:00, 62.58it/s]\n",
      "Epoch-15-:   0%|                                                                              | 0/1563 [00:00<?, ?it/s]"
     ]
    },
    {
     "name": "stdout",
     "output_type": "stream",
     "text": [
      "Validation results at epoch-14 | loss: 1.3406844074352862\tTop1 Acc: 0.657\n"
     ]
    },
    {
     "name": "stderr",
     "output_type": "stream",
     "text": [
      "Epoch-15-: 100%|███████████████████████████████████████████████████████████████████| 1563/1563 [00:38<00:00, 40.35it/s]\n",
      "Valiation at -15-:   0%|                                                                       | 0/313 [00:00<?, ?it/s]"
     ]
    },
    {
     "name": "stdout",
     "output_type": "stream",
     "text": [
      "Training at epoch-15 | loss: 0.8530878388607113\tTop1 Acc: 0.7506\n"
     ]
    },
    {
     "name": "stderr",
     "output_type": "stream",
     "text": [
      "Valiation at -15-: 100%|█████████████████████████████████████████████████████████████| 313/313 [00:04<00:00, 62.67it/s]\n",
      "Epoch-16-:   0%|                                                                              | 0/1563 [00:00<?, ?it/s]"
     ]
    },
    {
     "name": "stdout",
     "output_type": "stream",
     "text": [
      "Validation results at epoch-15 | loss: 1.3379119636532597\tTop1 Acc: 0.6572\n"
     ]
    },
    {
     "name": "stderr",
     "output_type": "stream",
     "text": [
      "Epoch-16-: 100%|███████████████████████████████████████████████████████████████████| 1563/1563 [00:38<00:00, 40.37it/s]\n",
      "Valiation at -16-:   0%|                                                                       | 0/313 [00:00<?, ?it/s]"
     ]
    },
    {
     "name": "stdout",
     "output_type": "stream",
     "text": [
      "Training at epoch-16 | loss: 0.8363067116576437\tTop1 Acc: 0.75722\n"
     ]
    },
    {
     "name": "stderr",
     "output_type": "stream",
     "text": [
      "Valiation at -16-: 100%|█████████████████████████████████████████████████████████████| 313/313 [00:05<00:00, 62.56it/s]\n",
      "Epoch-17-:   0%|                                                                              | 0/1563 [00:00<?, ?it/s]"
     ]
    },
    {
     "name": "stdout",
     "output_type": "stream",
     "text": [
      "Validation results at epoch-16 | loss: 1.3601088573376592\tTop1 Acc: 0.6521\n"
     ]
    },
    {
     "name": "stderr",
     "output_type": "stream",
     "text": [
      "Epoch-17-: 100%|███████████████████████████████████████████████████████████████████| 1563/1563 [00:38<00:00, 40.39it/s]\n",
      "Valiation at -17-:   0%|                                                                       | 0/313 [00:00<?, ?it/s]"
     ]
    },
    {
     "name": "stdout",
     "output_type": "stream",
     "text": [
      "Training at epoch-17 | loss: 0.822447774983032\tTop1 Acc: 0.76008\n"
     ]
    },
    {
     "name": "stderr",
     "output_type": "stream",
     "text": [
      "Valiation at -17-: 100%|█████████████████████████████████████████████████████████████| 313/313 [00:06<00:00, 49.51it/s]\n",
      "Epoch-18-:   0%|                                                                              | 0/1563 [00:00<?, ?it/s]"
     ]
    },
    {
     "name": "stdout",
     "output_type": "stream",
     "text": [
      "Validation results at epoch-17 | loss: 1.3313592551424862\tTop1 Acc: 0.6595\n"
     ]
    },
    {
     "name": "stderr",
     "output_type": "stream",
     "text": [
      "Epoch-18-: 100%|███████████████████████████████████████████████████████████████████| 1563/1563 [00:39<00:00, 39.98it/s]\n",
      "Valiation at -18-:   0%|                                                                       | 0/313 [00:00<?, ?it/s]"
     ]
    },
    {
     "name": "stdout",
     "output_type": "stream",
     "text": [
      "Training at epoch-18 | loss: 0.8039277867293099\tTop1 Acc: 0.76544\n"
     ]
    },
    {
     "name": "stderr",
     "output_type": "stream",
     "text": [
      "Valiation at -18-: 100%|█████████████████████████████████████████████████████████████| 313/313 [00:04<00:00, 67.70it/s]\n",
      "Epoch-19-:   0%|                                                                              | 0/1563 [00:00<?, ?it/s]"
     ]
    },
    {
     "name": "stdout",
     "output_type": "stream",
     "text": [
      "Validation results at epoch-18 | loss: 1.3504659119315041\tTop1 Acc: 0.6582\n"
     ]
    },
    {
     "name": "stderr",
     "output_type": "stream",
     "text": [
      "Epoch-19-: 100%|███████████████████████████████████████████████████████████████████| 1563/1563 [00:37<00:00, 42.02it/s]\n",
      "Valiation at -19-:   0%|                                                                       | 0/313 [00:00<?, ?it/s]"
     ]
    },
    {
     "name": "stdout",
     "output_type": "stream",
     "text": [
      "Training at epoch-19 | loss: 0.7908087270864674\tTop1 Acc: 0.76978\n"
     ]
    },
    {
     "name": "stderr",
     "output_type": "stream",
     "text": [
      "Valiation at -19-: 100%|█████████████████████████████████████████████████████████████| 313/313 [00:06<00:00, 48.08it/s]"
     ]
    },
    {
     "name": "stdout",
     "output_type": "stream",
     "text": [
      "Validation results at epoch-19 | loss: 1.3219191471037393\tTop1 Acc: 0.663\n",
      "  + Number of params: 25.1488M\n",
      "25.148833\n",
      "  + Number of FLOPs: 0.13G\n",
      "0.134374352\n"
     ]
    },
    {
     "name": "stderr",
     "output_type": "stream",
     "text": [
      "\n"
     ]
    }
   ],
   "source": [
    "agent.config.max_epoch = 20\n",
    "agent.config.batch_size = 128\n",
    "best = agent.train(specializing=False, freeze_conv=False)\n",
    "\n",
    "print(count_model_param_nums(agent.model) / 1e6)\n",
    "print(count_model_flops(agent.model, input_res=32)/ 1e9)\n"
   ]
  },
  {
   "cell_type": "code",
   "execution_count": 5,
   "metadata": {
    "scrolled": true
   },
   "outputs": [
    {
     "name": "stdout",
     "output_type": "stream",
     "text": [
      "  + Number of params: 25.1488M\n",
      "25.148833\n",
      "  + Number of FLOPs: 0.13G\n",
      "0.134374352\n"
     ]
    }
   ],
   "source": [
    "print(count_model_param_nums(agent.model) / 1e6)\n",
    "print(count_model_flops(agent.model, input_res=32)/ 1e9)"
   ]
  },
  {
   "cell_type": "code",
   "execution_count": 6,
   "metadata": {},
   "outputs": [
    {
     "ename": "NameError",
     "evalue": "name 'best' is not defined",
     "output_type": "error",
     "traceback": [
      "\u001b[1;31m---------------------------------------------------------------------------\u001b[0m",
      "\u001b[1;31mNameError\u001b[0m                                 Traceback (most recent call last)",
      "\u001b[1;32m<ipython-input-6-377027ff61a3>\u001b[0m in \u001b[0;36m<module>\u001b[1;34m\u001b[0m\n\u001b[1;32m----> 1\u001b[1;33m \u001b[0mbest\u001b[0m\u001b[1;33m\u001b[0m\u001b[1;33m\u001b[0m\u001b[0m\n\u001b[0m",
      "\u001b[1;31mNameError\u001b[0m: name 'best' is not defined"
     ]
    }
   ],
   "source": [
    "best"
   ]
  },
  {
   "cell_type": "code",
   "execution_count": null,
   "metadata": {},
   "outputs": [],
   "source": []
  },
  {
   "cell_type": "code",
   "execution_count": null,
   "metadata": {},
   "outputs": [],
   "source": []
  },
  {
   "cell_type": "code",
   "execution_count": null,
   "metadata": {},
   "outputs": [],
   "source": []
  },
  {
   "cell_type": "code",
   "execution_count": null,
   "metadata": {},
   "outputs": [],
   "source": []
  },
  {
   "cell_type": "markdown",
   "metadata": {},
   "source": [
    "# 0.2"
   ]
  },
  {
   "cell_type": "code",
   "execution_count": null,
   "metadata": {},
   "outputs": [],
   "source": [
    "config = easydict.EasyDict()\n",
    "config.exp_name = \"vgg16_exp_cifar100_0\"\n",
    "config.log_dir = os.path.join(\"experiments\", config.exp_name, \"logs/\")\n",
    "\n",
    "config.load_file = os.path.join(\"experiments\", \"vgg16_exp_cifar100_0\",\"checkpoints\", \"checkpoint.pth\")\n",
    "config.cuda = True\n",
    "config.gpu_device = 0\n",
    "config.seed = 1\n",
    "config.milestones = [5, 10,15]\n",
    "config.gamma = 0.9\n",
    "config.img_size = 32\n",
    "config.num_classes = 100\n",
    "config.data_mode = \"download\"\n",
    "config.data_loader_workers = 4\n",
    "config.pin_memory = True\n",
    "config.async_loading = True\n",
    "config.batch_size = 32\n",
    "config.async_loading = True\n",
    "config.max_epoch = 20\n",
    "torch.cuda.init()\n",
    "\n",
    "agent = globals()[\"VGG_BN_cifar\"](config)\n",
    "agent.init_graph()\n",
    "agent.load_checkpoint(config.load_file)\n",
    "\n",
    "\n",
    "# agent.validate()\n",
    "count_model_param_nums(agent.model)\n",
    "count_model_flops(agent.model, input_res=32)\n",
    "\n",
    "\n",
    "classes_list = [[1,2,3], [10,20,30], [7,14,21],\n",
    "                [9,18, 27], [90,91,92]]\n",
    "\n",
    "# classes_list = [0]\n",
    "# classes_list = [80]\n",
    "\n",
    "result, param, flop = [], [], []\n",
    "for i in classes_list:\n",
    "    agent = globals()[\"VGG_BN_cifar\"](config)\n",
    "    agent.init_graph()\n",
    "    agent.load_checkpoint(config.load_file)\n",
    "    cls = i\n",
    "    print('selected class is ',cls)\n",
    "    agent.set_subtask(cls)\n",
    "    agent.compress(method = 'greedy',k=0.2)\n",
    "    print([m.out_channels for m in agent.named_conv_list.values()])\n",
    "    best = agent.train(specializing=True, reduced_fc = True, freeze_conv=False)\n",
    "    result.append(best)\n",
    "    param.append(count_model_param_nums(agent.model) / 1e6)\n",
    "    flop.append(count_model_flops(agent.model, input_res=32)/ 1e9)\n",
    "\n",
    "pprint(result)\n",
    "pprint(param)\n",
    "pprint(flop)\n",
    "print()\n",
    "print('param is ' , sum(param)/5)\n",
    "print()\n",
    "print('flop is ' , sum(flop)/5)\n",
    "print()\n",
    "\n",
    "print('epoch_avg')\n",
    "epoch_avg(result)\n",
    "print()\n",
    "print('best_avg')\n",
    "res_avg(result)"
   ]
  },
  {
   "cell_type": "markdown",
   "metadata": {},
   "source": [
    "# 0.3"
   ]
  },
  {
   "cell_type": "code",
   "execution_count": null,
   "metadata": {
    "scrolled": true
   },
   "outputs": [],
   "source": [
    "config = easydict.EasyDict()\n",
    "config.exp_name = \"vgg16_exp_cifar100_0\"\n",
    "config.log_dir = os.path.join(\"experiments\", config.exp_name, \"logs/\")\n",
    "\n",
    "config.load_file = os.path.join(\"experiments\", \"vgg16_exp_cifar100_0\",\"checkpoints\", \"checkpoint.pth\")\n",
    "config.cuda = True\n",
    "config.gpu_device = 0\n",
    "config.seed = 1\n",
    "config.milestones = [5, 10,15]\n",
    "config.gamma = 0.9\n",
    "config.img_size = 32\n",
    "config.num_classes = 100\n",
    "config.data_mode = \"download\"\n",
    "config.data_loader_workers = 4\n",
    "config.pin_memory = True\n",
    "config.async_loading = True\n",
    "config.batch_size = 32\n",
    "config.async_loading = True\n",
    "config.max_epoch = 20\n",
    "torch.cuda.init()\n",
    "\n",
    "agent = globals()[\"VGG_BN_cifar\"](config)\n",
    "agent.init_graph()\n",
    "agent.load_checkpoint(config.load_file)\n",
    "\n",
    "\n",
    "# agent.validate()\n",
    "count_model_param_nums(agent.model)\n",
    "count_model_flops(agent.model, input_res=32)\n",
    "\n",
    "\n",
    "classes_list = [[1,2,3], [10,20,30], [7,14,21],\n",
    "                [9,18, 27], [90,91,92]]\n",
    "\n",
    "# classes_list = [0]\n",
    "# classes_list = [80]\n",
    "\n",
    "result, param, flop = [], [], []\n",
    "for i in classes_list:\n",
    "    agent = globals()[\"VGG_BN_cifar\"](config)\n",
    "    agent.init_graph()\n",
    "    agent.load_checkpoint(config.load_file)\n",
    "    cls = i\n",
    "    print('selected class is ',cls)\n",
    "    agent.set_subtask(cls)\n",
    "    agent.compress(method = 'lasso',k=0.3)\n",
    "    print([m.out_channels for m in agent.named_conv_list.values()])\n",
    "    best = agent.train(specializing=True, reduced_fc = True, freeze_conv=False)\n",
    "    result.append(best)\n",
    "    param.append(count_model_param_nums(agent.model) / 1e6)\n",
    "    flop.append(count_model_flops(agent.model, input_res=32)/ 1e9)\n",
    "\n",
    "pprint(result)\n",
    "pprint(param)\n",
    "pprint(flop)\n",
    "print()\n",
    "print('param is ' , sum(param)/5)\n",
    "print()\n",
    "print('flop is ' , sum(flop)/5)\n",
    "print()\n",
    "\n",
    "print('epoch_avg')\n",
    "epoch_avg(result)\n",
    "print()\n",
    "print('best_avg')\n",
    "res_avg(result)"
   ]
  },
  {
   "cell_type": "markdown",
   "metadata": {},
   "source": [
    "# 0.5"
   ]
  },
  {
   "cell_type": "code",
   "execution_count": null,
   "metadata": {},
   "outputs": [],
   "source": [
    "config = easydict.EasyDict()\n",
    "config.exp_name = \"vgg16_exp_cifar100_0\"\n",
    "config.log_dir = os.path.join(\"experiments\", config.exp_name, \"logs/\")\n",
    "\n",
    "config.load_file = os.path.join(\"experiments\", \"vgg16_exp_cifar100_0\",\"checkpoints\", \"checkpoint.pth\")\n",
    "config.cuda = True\n",
    "config.gpu_device = 0\n",
    "config.seed = 1\n",
    "config.milestones = [5, 10,15]\n",
    "config.gamma = 0.9\n",
    "config.img_size = 32\n",
    "config.num_classes = 100\n",
    "config.data_mode = \"download\"\n",
    "config.data_loader_workers = 4\n",
    "config.pin_memory = True\n",
    "config.async_loading = True\n",
    "config.batch_size = 32\n",
    "config.async_loading = True\n",
    "config.max_epoch = 20\n",
    "torch.cuda.init()\n",
    "\n",
    "agent = globals()[\"VGG_BN_cifar\"](config)\n",
    "agent.init_graph()\n",
    "agent.load_checkpoint(config.load_file)\n",
    "\n",
    "\n",
    "# agent.validate()\n",
    "count_model_param_nums(agent.model)\n",
    "count_model_flops(agent.model, input_res=32)\n",
    "\n",
    "\n",
    "classes_list = [[1,2,3], [10,20,30], [7,14,21],\n",
    "                [9,18, 27], [90,91,92]]\n",
    "\n",
    "# classes_list = [0]\n",
    "# classes_list = [80]\n",
    "\n",
    "result, param, flop = [], [], []\n",
    "for i in classes_list:\n",
    "    agent = globals()[\"VGG_BN_cifar\"](config)\n",
    "    agent.init_graph()\n",
    "    agent.load_checkpoint(config.load_file)\n",
    "    cls = i\n",
    "    print('selected class is ',cls)\n",
    "    agent.set_subtask(cls)\n",
    "    agent.compress(method = 'greedy',k=0.5)\n",
    "    print([m.out_channels for m in agent.named_conv_list.values()])\n",
    "    best = agent.train(specializing=True, reduced_fc = True, freeze_conv=False)\n",
    "    result.append(best)\n",
    "    param.append(count_model_param_nums(agent.model) / 1e6)\n",
    "    flop.append(count_model_flops(agent.model, input_res=32)/ 1e9)\n",
    "\n",
    "pprint(result)\n",
    "pprint(param)\n",
    "pprint(flop)\n",
    "print()\n",
    "print('param is ' , sum(param)/5)\n",
    "print()\n",
    "print('flop is ' , sum(flop)/5)\n",
    "print()\n",
    "\n",
    "print('epoch_avg')\n",
    "epoch_avg(result)\n",
    "print()\n",
    "print('best_avg')\n",
    "res_avg(result)"
   ]
  },
  {
   "cell_type": "code",
   "execution_count": null,
   "metadata": {},
   "outputs": [],
   "source": []
  },
  {
   "cell_type": "code",
   "execution_count": null,
   "metadata": {},
   "outputs": [],
   "source": []
  },
  {
   "cell_type": "code",
   "execution_count": null,
   "metadata": {},
   "outputs": [],
   "source": []
  },
  {
   "cell_type": "code",
   "execution_count": null,
   "metadata": {},
   "outputs": [],
   "source": []
  },
  {
   "cell_type": "code",
   "execution_count": null,
   "metadata": {},
   "outputs": [],
   "source": []
  },
  {
   "cell_type": "code",
   "execution_count": null,
   "metadata": {},
   "outputs": [],
   "source": []
  },
  {
   "cell_type": "code",
   "execution_count": null,
   "metadata": {},
   "outputs": [],
   "source": []
  },
  {
   "cell_type": "code",
   "execution_count": null,
   "metadata": {},
   "outputs": [],
   "source": [
    "config = easydict.EasyDict()\n",
    "config.exp_name = \"vgg16_exp_cifar100_0\"\n",
    "config.log_dir = os.path.join(\"experiments\", config.exp_name, \"logs/\")\n",
    "\n",
    "config.load_file = os.path.join(\"experiments\", \"vgg16_exp_cifar100_0\",\"checkpoints\", \"checkpoint.pth\")\n",
    "config.cuda = True\n",
    "config.gpu_device = 0\n",
    "config.seed = 1\n",
    "config.milestones = [5, 10,15]\n",
    "config.gamma = 0.9\n",
    "config.img_size = 32\n",
    "config.num_classes = 100\n",
    "config.data_mode = \"download\"\n",
    "config.data_loader_workers = 4\n",
    "config.pin_memory = True\n",
    "config.async_loading = True\n",
    "config.batch_size = 32\n",
    "config.async_loading = True\n",
    "config.max_epoch = 20\n",
    "torch.cuda.init()\n",
    "\n",
    "agent = globals()[\"VGG_BN_cifar\"](config)\n",
    "agent.init_graph()\n",
    "agent.load_checkpoint(config.load_file)\n",
    "\n",
    "\n",
    "# agent.validate()\n",
    "count_model_param_nums(agent.model)\n",
    "count_model_flops(agent.model, input_res=32)\n",
    "\n",
    "\n",
    "# classes_list = [[1,2,3], [10,20,30], [7,14,21],\n",
    "#                 [9,18, 27], [90,91,92]]\n",
    "\n",
    "# classes_list = [0]\n",
    "# classes_list = [80]\n",
    "classes_list = [[0],[20],[40],[60],[80]]\n",
    "\n",
    "result, param, flop = [], [], []\n",
    "for i in classes_list:\n",
    "    agent = globals()[\"VGG_BN_cifar\"](config)\n",
    "    agent.init_graph()\n",
    "    agent.load_checkpoint(config.load_file)\n",
    "    cls = i\n",
    "    print('selected class is ',cls)\n",
    "    agent.set_subtask(cls)\n",
    "    agent.compress(method = 'lasso',k=0.3)\n",
    "    print([m.out_channels for m in agent.named_conv_list.values()])\n",
    "    best = agent.train(specializing=True, reduced_fc = True, freeze_conv=False)\n",
    "    result.append(best)\n",
    "    param.append(count_model_param_nums(agent.model) / 1e6)\n",
    "    flop.append(count_model_flops(agent.model, input_res=32)/ 1e9)\n",
    "\n",
    "pprint(result)\n",
    "pprint(param)\n",
    "pprint(flop)\n",
    "print()\n",
    "print('param is ' , sum(param)/5)\n",
    "print()\n",
    "print('flop is ' , sum(flop)/5)\n",
    "print()\n",
    "\n",
    "print('epoch_avg')\n",
    "epoch_avg(result)\n",
    "print()\n",
    "print('best_avg')\n",
    "res_avg(result)"
   ]
  },
  {
   "cell_type": "code",
   "execution_count": null,
   "metadata": {},
   "outputs": [],
   "source": []
  }
 ],
 "metadata": {
  "kernelspec": {
   "display_name": "pytorch16",
   "language": "python",
   "name": "pytorch16"
  },
  "language_info": {
   "codemirror_mode": {
    "name": "ipython",
    "version": 3
   },
   "file_extension": ".py",
   "mimetype": "text/x-python",
   "name": "python",
   "nbconvert_exporter": "python",
   "pygments_lexer": "ipython3",
   "version": "3.7.7"
  }
 },
 "nbformat": 4,
 "nbformat_minor": 4
}
